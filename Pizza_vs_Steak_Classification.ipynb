{
  "nbformat": 4,
  "nbformat_minor": 0,
  "metadata": {
    "colab": {
      "name": "Pizza vs Steak Classification",
      "provenance": [],
      "mount_file_id": "1NecoLG9e9_6GATEY1-d1TOepWbxgFC4a",
      "authorship_tag": "ABX9TyP+TvTedp9BUROS/IG1Gegl",
      "include_colab_link": true
    },
    "kernelspec": {
      "name": "python3",
      "display_name": "Python 3"
    },
    "language_info": {
      "name": "python"
    }
  },
  "cells": [
    {
      "cell_type": "markdown",
      "metadata": {
        "id": "view-in-github",
        "colab_type": "text"
      },
      "source": [
        "<a href=\"https://colab.research.google.com/github/Shubhranshu-Malhotra/Tensorflow-Developer-ZTM/blob/master/Pizza_vs_Steak_Classification.ipynb\" target=\"_parent\"><img src=\"https://colab.research.google.com/assets/colab-badge.svg\" alt=\"Open In Colab\"/></a>"
      ]
    },
    {
      "cell_type": "code",
      "metadata": {
        "id": "UNV4oUnV4QO6"
      },
      "source": [
        "import tensorflow as tf\n",
        "import numpy as np\n",
        "import pandas as pd\n",
        "import matplotlib.pyplot as plt"
      ],
      "execution_count": 2,
      "outputs": []
    },
    {
      "cell_type": "code",
      "metadata": {
        "id": "oxPuPsqacoi-",
        "colab": {
          "base_uri": "https://localhost:8080/"
        },
        "outputId": "1f5bdf7b-873b-4775-dc15-79f8b7d61a03"
      },
      "source": [
        "import zipfile\n",
        "\n",
        "# Download zip file of pizza_steak images\n",
        "!wget -O /content/drive/MyDrive/ZTM_tensorflow_course/pizza_vs_steak/data/pizza_steak.zip https://storage.googleapis.com/ztm_tf_course/food_vision/pizza_steak.zip\n",
        "\n",
        "# Unzip the downloaded file [Important]\n",
        "zip_ref = zipfile.ZipFile(\"/content/drive/MyDrive/ZTM_tensorflow_course/pizza_vs_steak/data/pizza_steak.zip\", \"r\")\n",
        "zip_ref.extractall()\n",
        "zip_ref.close()"
      ],
      "execution_count": 6,
      "outputs": [
        {
          "output_type": "stream",
          "text": [
            "--2021-05-19 13:54:08--  https://storage.googleapis.com/ztm_tf_course/food_vision/pizza_steak.zip\n",
            "Resolving storage.googleapis.com (storage.googleapis.com)... 108.177.13.128, 172.217.193.128, 172.217.204.128, ...\n",
            "Connecting to storage.googleapis.com (storage.googleapis.com)|108.177.13.128|:443... connected.\n",
            "HTTP request sent, awaiting response... 200 OK\n",
            "Length: 109579078 (105M) [application/zip]\n",
            "Saving to: ‘/content/drive/MyDrive/ZTM_tensorflow_course/pizza_vs_steak/data/pizza_steak.zip’\n",
            "\n",
            "/content/drive/MyDr 100%[===================>] 104.50M  47.2MB/s    in 2.2s    \n",
            "\n",
            "2021-05-19 13:54:11 (47.2 MB/s) - ‘/content/drive/MyDrive/ZTM_tensorflow_course/pizza_vs_steak/data/pizza_steak.zip’ saved [109579078/109579078]\n",
            "\n"
          ],
          "name": "stdout"
        }
      ]
    },
    {
      "cell_type": "code",
      "metadata": {
        "id": "dLZha_FC42xD"
      },
      "source": [
        ""
      ],
      "execution_count": null,
      "outputs": []
    }
  ]
}