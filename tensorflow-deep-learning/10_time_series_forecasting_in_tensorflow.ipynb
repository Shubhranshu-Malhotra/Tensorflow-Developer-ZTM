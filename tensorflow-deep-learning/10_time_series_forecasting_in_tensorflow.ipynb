{
  "nbformat": 4,
  "nbformat_minor": 0,
  "metadata": {
    "colab": {
      "name": "10_time_series_forecasting_in_tensorflow.ipynb",
      "provenance": [],
      "collapsed_sections": [],
      "authorship_tag": "ABX9TyN95ffAlI/P75SzH+Sb9Nz6",
      "include_colab_link": true
    },
    "kernelspec": {
      "name": "python3",
      "display_name": "Python 3"
    },
    "language_info": {
      "name": "python"
    }
  },
  "cells": [
    {
      "cell_type": "markdown",
      "metadata": {
        "id": "view-in-github",
        "colab_type": "text"
      },
      "source": [
        "<a href=\"https://colab.research.google.com/github/mrdbourke/tensorflow-deep-learning/blob/main/10_time_series_forecasting_in_tensorflow.ipynb\" target=\"_parent\"><img src=\"https://colab.research.google.com/assets/colab-badge.svg\" alt=\"Open In Colab\"/></a>"
      ]
    },
    {
      "cell_type": "markdown",
      "metadata": {
        "id": "vlVtweEv7nAx"
      },
      "source": [
        "# Note: This notebook is a work in progress & will be updated continuously over the next week or so before it's ready - 18 May 2021\n",
        "\n",
        "# Time series forecasting in TensorFlow\n",
        "\n",
        "The goal of this notebook is to get you familiar with working with time series data.\n",
        "\n",
        "It won't cover all of the time series field but by the end you will get a fairly good overview of things to consider for time series problems...\n",
        "\n",
        "Outline:\n",
        "* Get data (a time series)\n",
        "* Format data\n",
        "  * Turn data into a windowed dataset\n",
        "  * Training/test sets for time series\n",
        "  * Univariate - Bitcoin's price history\n",
        "  * Multivariate - Bitcoin's price history + block size\n",
        "* Model data\n",
        "  * Baseline - naive forecasting\n",
        "  * Baseline 2 - random forest regressor\n",
        "  * Deep model - fully connected\n",
        "  * Sequence models\n",
        "    * LSTM\n",
        "    * Conv1D\n",
        "  * N-Beats algorithm - https://arxiv.org/pdf/1905.10437.pdf\n",
        "* Evaluating a time series model\n",
        "  * MAE\n",
        "  * MSE\n",
        "  * RMSE etc...\n",
        "* Uncertainty estimates\n",
        "  * Coconut uncertainty - epistemic uncertainty\n",
        "  * Subway uncertainty - aleatory uncertainty\n",
        "* Why forecasting is BS (turkey problem) - https://youtu.be/hRwimmE2wEk\n",
        "  * Open system: beware (like fortune telling), see Mark Saroufim's tweet - https://twitter.com/marksaroufim/status/1366871736604532739?s=20 \n",
        "  * Closed system: try it out \n",
        "* Exercises\n",
        "* Extra-curriculum\n",
        "  * Time series book - https://otexts.com/fpp2/accuracy.html \n"
      ]
    },
    {
      "cell_type": "markdown",
      "metadata": {
        "id": "ZdeV4DEeAjF2"
      },
      "source": [
        "## TODO: What is a time series problem?\n",
        "\n",
        "* Forecasting\n",
        "* Classification"
      ]
    },
    {
      "cell_type": "markdown",
      "metadata": {
        "id": "81ywkh0q8Apj"
      },
      "source": [
        "## TODO: Get data\n",
        "\n",
        "Let's predict the price of Bitcoin! Data source: https://www.coindesk.com/price/bitcoin\n",
        "\n",
        "> **Note:** This is not financial advice, as you'll see time series forecasting for stock market prices is actually quite terrible.\n",
        "\n",
        "See this tweet for reference: https://twitter.com/marksaroufim/status/1366871736604532739?s=20\n",
        "\n",
        "TODO (upload to Google Storage/GitHub): Data: https://www.dropbox.com/s/hoexgnrk44uco0a/BTC_USD_2013-10-01_2021-05-18-CoinDesk.csv?dl=0"
      ]
    },
    {
      "cell_type": "code",
      "metadata": {
        "colab": {
          "base_uri": "https://localhost:8080/"
        },
        "id": "mVEjK6ZHDqkQ",
        "outputId": "20b65311-55b1-494a-a50a-331ead3b9113"
      },
      "source": [
        "!wget https://www.dropbox.com/s/hoexgnrk44uco0a/BTC_USD_2013-10-01_2021-05-18-CoinDesk.csv"
      ],
      "execution_count": 1,
      "outputs": [
        {
          "output_type": "stream",
          "text": [
            "--2021-05-19 03:05:28--  https://www.dropbox.com/s/hoexgnrk44uco0a/BTC_USD_2013-10-01_2021-05-18-CoinDesk.csv\n",
            "Resolving www.dropbox.com (www.dropbox.com)... 162.125.3.18, 2620:100:601b:18::a27d:812\n",
            "Connecting to www.dropbox.com (www.dropbox.com)|162.125.3.18|:443... connected.\n",
            "HTTP request sent, awaiting response... 301 Moved Permanently\n",
            "Location: /s/raw/hoexgnrk44uco0a/BTC_USD_2013-10-01_2021-05-18-CoinDesk.csv [following]\n",
            "--2021-05-19 03:05:28--  https://www.dropbox.com/s/raw/hoexgnrk44uco0a/BTC_USD_2013-10-01_2021-05-18-CoinDesk.csv\n",
            "Reusing existing connection to www.dropbox.com:443.\n",
            "HTTP request sent, awaiting response... 302 Found\n",
            "Location: https://uc73b407e90c4b0d0bac40d58244.dl.dropboxusercontent.com/cd/0/inline/BOxFrkirunmRp9bsG7g7Zjezfh_mdLfw7D_LdtNQ1u3rkufOkhiOLtlOAvsu8VyGeMhwKSxqiagpHquK4qUdOpS91yfZwoWDBJwWjJVTyD92BshuFKk1nqi4XGxM85zuXa_EKrlSf2MNFEVyNKKyzr3D/file# [following]\n",
            "--2021-05-19 03:05:29--  https://uc73b407e90c4b0d0bac40d58244.dl.dropboxusercontent.com/cd/0/inline/BOxFrkirunmRp9bsG7g7Zjezfh_mdLfw7D_LdtNQ1u3rkufOkhiOLtlOAvsu8VyGeMhwKSxqiagpHquK4qUdOpS91yfZwoWDBJwWjJVTyD92BshuFKk1nqi4XGxM85zuXa_EKrlSf2MNFEVyNKKyzr3D/file\n",
            "Resolving uc73b407e90c4b0d0bac40d58244.dl.dropboxusercontent.com (uc73b407e90c4b0d0bac40d58244.dl.dropboxusercontent.com)... 162.125.3.15, 2620:100:6018:15::a27d:30f\n",
            "Connecting to uc73b407e90c4b0d0bac40d58244.dl.dropboxusercontent.com (uc73b407e90c4b0d0bac40d58244.dl.dropboxusercontent.com)|162.125.3.15|:443... connected.\n",
            "HTTP request sent, awaiting response... 200 OK\n",
            "Length: 178509 (174K) [text/plain]\n",
            "Saving to: ‘BTC_USD_2013-10-01_2021-05-18-CoinDesk.csv’\n",
            "\n",
            "BTC_USD_2013-10-01_ 100%[===================>] 174.33K  --.-KB/s    in 0.07s   \n",
            "\n",
            "2021-05-19 03:05:29 (2.53 MB/s) - ‘BTC_USD_2013-10-01_2021-05-18-CoinDesk.csv’ saved [178509/178509]\n",
            "\n"
          ],
          "name": "stdout"
        }
      ]
    },
    {
      "cell_type": "code",
      "metadata": {
        "colab": {
          "base_uri": "https://localhost:8080/",
          "height": 431
        },
        "id": "5FOrshVX_dUE",
        "outputId": "e426be2a-6aa2-4880-e81a-e4a8d219bad9"
      },
      "source": [
        "# Import with pandas \n",
        "import pandas as pd\n",
        "# Parse dates and set date column to index\n",
        "df = pd.read_csv(\"/content/BTC_USD_2013-10-01_2021-05-18-CoinDesk.csv\", \n",
        "                 parse_dates=[\"Date\"], \n",
        "                 index_col=[\"Date\"]) # parse the date column (tell pandas column 1 is a datetime)\n",
        "df"
      ],
      "execution_count": 2,
      "outputs": [
        {
          "output_type": "execute_result",
          "data": {
            "text/html": [
              "<div>\n",
              "<style scoped>\n",
              "    .dataframe tbody tr th:only-of-type {\n",
              "        vertical-align: middle;\n",
              "    }\n",
              "\n",
              "    .dataframe tbody tr th {\n",
              "        vertical-align: top;\n",
              "    }\n",
              "\n",
              "    .dataframe thead th {\n",
              "        text-align: right;\n",
              "    }\n",
              "</style>\n",
              "<table border=\"1\" class=\"dataframe\">\n",
              "  <thead>\n",
              "    <tr style=\"text-align: right;\">\n",
              "      <th></th>\n",
              "      <th>Currency</th>\n",
              "      <th>Closing Price (USD)</th>\n",
              "      <th>24h Open (USD)</th>\n",
              "      <th>24h High (USD)</th>\n",
              "      <th>24h Low (USD)</th>\n",
              "    </tr>\n",
              "    <tr>\n",
              "      <th>Date</th>\n",
              "      <th></th>\n",
              "      <th></th>\n",
              "      <th></th>\n",
              "      <th></th>\n",
              "      <th></th>\n",
              "    </tr>\n",
              "  </thead>\n",
              "  <tbody>\n",
              "    <tr>\n",
              "      <th>2013-10-01</th>\n",
              "      <td>BTC</td>\n",
              "      <td>123.654990</td>\n",
              "      <td>124.304660</td>\n",
              "      <td>124.751660</td>\n",
              "      <td>122.563490</td>\n",
              "    </tr>\n",
              "    <tr>\n",
              "      <th>2013-10-02</th>\n",
              "      <td>BTC</td>\n",
              "      <td>125.455000</td>\n",
              "      <td>123.654990</td>\n",
              "      <td>125.758500</td>\n",
              "      <td>123.633830</td>\n",
              "    </tr>\n",
              "    <tr>\n",
              "      <th>2013-10-03</th>\n",
              "      <td>BTC</td>\n",
              "      <td>108.584830</td>\n",
              "      <td>125.455000</td>\n",
              "      <td>125.665660</td>\n",
              "      <td>83.328330</td>\n",
              "    </tr>\n",
              "    <tr>\n",
              "      <th>2013-10-04</th>\n",
              "      <td>BTC</td>\n",
              "      <td>118.674660</td>\n",
              "      <td>108.584830</td>\n",
              "      <td>118.675000</td>\n",
              "      <td>107.058160</td>\n",
              "    </tr>\n",
              "    <tr>\n",
              "      <th>2013-10-05</th>\n",
              "      <td>BTC</td>\n",
              "      <td>121.338660</td>\n",
              "      <td>118.674660</td>\n",
              "      <td>121.936330</td>\n",
              "      <td>118.005660</td>\n",
              "    </tr>\n",
              "    <tr>\n",
              "      <th>...</th>\n",
              "      <td>...</td>\n",
              "      <td>...</td>\n",
              "      <td>...</td>\n",
              "      <td>...</td>\n",
              "      <td>...</td>\n",
              "    </tr>\n",
              "    <tr>\n",
              "      <th>2021-05-14</th>\n",
              "      <td>BTC</td>\n",
              "      <td>49764.132082</td>\n",
              "      <td>49596.778891</td>\n",
              "      <td>51448.798576</td>\n",
              "      <td>46294.720180</td>\n",
              "    </tr>\n",
              "    <tr>\n",
              "      <th>2021-05-15</th>\n",
              "      <td>BTC</td>\n",
              "      <td>50032.693137</td>\n",
              "      <td>49717.354353</td>\n",
              "      <td>51578.312545</td>\n",
              "      <td>48944.346536</td>\n",
              "    </tr>\n",
              "    <tr>\n",
              "      <th>2021-05-16</th>\n",
              "      <td>BTC</td>\n",
              "      <td>47885.625255</td>\n",
              "      <td>49926.035067</td>\n",
              "      <td>50690.802950</td>\n",
              "      <td>47005.102292</td>\n",
              "    </tr>\n",
              "    <tr>\n",
              "      <th>2021-05-17</th>\n",
              "      <td>BTC</td>\n",
              "      <td>45604.615754</td>\n",
              "      <td>46805.537852</td>\n",
              "      <td>49670.414174</td>\n",
              "      <td>43868.638969</td>\n",
              "    </tr>\n",
              "    <tr>\n",
              "      <th>2021-05-18</th>\n",
              "      <td>BTC</td>\n",
              "      <td>43144.471291</td>\n",
              "      <td>46439.336570</td>\n",
              "      <td>46622.853437</td>\n",
              "      <td>42102.346430</td>\n",
              "    </tr>\n",
              "  </tbody>\n",
              "</table>\n",
              "<p>2787 rows × 5 columns</p>\n",
              "</div>"
            ],
            "text/plain": [
              "           Currency  Closing Price (USD)  ...  24h High (USD)  24h Low (USD)\n",
              "Date                                      ...                               \n",
              "2013-10-01      BTC           123.654990  ...      124.751660     122.563490\n",
              "2013-10-02      BTC           125.455000  ...      125.758500     123.633830\n",
              "2013-10-03      BTC           108.584830  ...      125.665660      83.328330\n",
              "2013-10-04      BTC           118.674660  ...      118.675000     107.058160\n",
              "2013-10-05      BTC           121.338660  ...      121.936330     118.005660\n",
              "...             ...                  ...  ...             ...            ...\n",
              "2021-05-14      BTC         49764.132082  ...    51448.798576   46294.720180\n",
              "2021-05-15      BTC         50032.693137  ...    51578.312545   48944.346536\n",
              "2021-05-16      BTC         47885.625255  ...    50690.802950   47005.102292\n",
              "2021-05-17      BTC         45604.615754  ...    49670.414174   43868.638969\n",
              "2021-05-18      BTC         43144.471291  ...    46622.853437   42102.346430\n",
              "\n",
              "[2787 rows x 5 columns]"
            ]
          },
          "metadata": {
            "tags": []
          },
          "execution_count": 2
        }
      ]
    },
    {
      "cell_type": "code",
      "metadata": {
        "colab": {
          "base_uri": "https://localhost:8080/"
        },
        "id": "Z-YoeINjCzJ_",
        "outputId": "c8819be4-add6-41bd-a554-0e1685e74529"
      },
      "source": [
        "df.info()"
      ],
      "execution_count": 3,
      "outputs": [
        {
          "output_type": "stream",
          "text": [
            "<class 'pandas.core.frame.DataFrame'>\n",
            "DatetimeIndex: 2787 entries, 2013-10-01 to 2021-05-18\n",
            "Data columns (total 5 columns):\n",
            " #   Column               Non-Null Count  Dtype  \n",
            "---  ------               --------------  -----  \n",
            " 0   Currency             2787 non-null   object \n",
            " 1   Closing Price (USD)  2787 non-null   float64\n",
            " 2   24h Open (USD)       2787 non-null   float64\n",
            " 3   24h High (USD)       2787 non-null   float64\n",
            " 4   24h Low (USD)        2787 non-null   float64\n",
            "dtypes: float64(4), object(1)\n",
            "memory usage: 130.6+ KB\n"
          ],
          "name": "stdout"
        }
      ]
    },
    {
      "cell_type": "code",
      "metadata": {
        "colab": {
          "base_uri": "https://localhost:8080/"
        },
        "id": "XP3cN0uvlxhi",
        "outputId": "692b5adb-4b1b-43f3-837f-2c7215bf382a"
      },
      "source": [
        "# TODO: time series often may not have very many samples (e.g. monthly = only 12 per year, daily = 365 per year... etc)\n",
        "# Deep learning algorithms usually flourish with lots of data (1000's of samples)\n",
        "len(df)"
      ],
      "execution_count": 13,
      "outputs": [
        {
          "output_type": "execute_result",
          "data": {
            "text/plain": [
              "2787"
            ]
          },
          "metadata": {
            "tags": []
          },
          "execution_count": 13
        }
      ]
    },
    {
      "cell_type": "code",
      "metadata": {
        "colab": {
          "base_uri": "https://localhost:8080/",
          "height": 225
        },
        "id": "QxoNCv2NCuLY",
        "outputId": "cdae7c45-e30a-40ee-dd4e-f4c64092e1ad"
      },
      "source": [
        "# Only want closing price\n",
        "bitcoin_prices = pd.DataFrame(df[\"Closing Price (USD)\"]).rename(columns={\"Closing Price (USD)\": \"Price\"})\n",
        "bitcoin_prices.head()"
      ],
      "execution_count": 4,
      "outputs": [
        {
          "output_type": "execute_result",
          "data": {
            "text/html": [
              "<div>\n",
              "<style scoped>\n",
              "    .dataframe tbody tr th:only-of-type {\n",
              "        vertical-align: middle;\n",
              "    }\n",
              "\n",
              "    .dataframe tbody tr th {\n",
              "        vertical-align: top;\n",
              "    }\n",
              "\n",
              "    .dataframe thead th {\n",
              "        text-align: right;\n",
              "    }\n",
              "</style>\n",
              "<table border=\"1\" class=\"dataframe\">\n",
              "  <thead>\n",
              "    <tr style=\"text-align: right;\">\n",
              "      <th></th>\n",
              "      <th>Price</th>\n",
              "    </tr>\n",
              "    <tr>\n",
              "      <th>Date</th>\n",
              "      <th></th>\n",
              "    </tr>\n",
              "  </thead>\n",
              "  <tbody>\n",
              "    <tr>\n",
              "      <th>2013-10-01</th>\n",
              "      <td>123.65499</td>\n",
              "    </tr>\n",
              "    <tr>\n",
              "      <th>2013-10-02</th>\n",
              "      <td>125.45500</td>\n",
              "    </tr>\n",
              "    <tr>\n",
              "      <th>2013-10-03</th>\n",
              "      <td>108.58483</td>\n",
              "    </tr>\n",
              "    <tr>\n",
              "      <th>2013-10-04</th>\n",
              "      <td>118.67466</td>\n",
              "    </tr>\n",
              "    <tr>\n",
              "      <th>2013-10-05</th>\n",
              "      <td>121.33866</td>\n",
              "    </tr>\n",
              "  </tbody>\n",
              "</table>\n",
              "</div>"
            ],
            "text/plain": [
              "                Price\n",
              "Date                 \n",
              "2013-10-01  123.65499\n",
              "2013-10-02  125.45500\n",
              "2013-10-03  108.58483\n",
              "2013-10-04  118.67466\n",
              "2013-10-05  121.33866"
            ]
          },
          "metadata": {
            "tags": []
          },
          "execution_count": 4
        }
      ]
    },
    {
      "cell_type": "code",
      "metadata": {
        "colab": {
          "base_uri": "https://localhost:8080/"
        },
        "id": "Y0CAu0PTFT5R",
        "outputId": "0a5fac77-eb9d-4cbc-ccb8-8857281cf557"
      },
      "source": [
        "bitcoin_prices.info()"
      ],
      "execution_count": 5,
      "outputs": [
        {
          "output_type": "stream",
          "text": [
            "<class 'pandas.core.frame.DataFrame'>\n",
            "DatetimeIndex: 2787 entries, 2013-10-01 to 2021-05-18\n",
            "Data columns (total 1 columns):\n",
            " #   Column  Non-Null Count  Dtype  \n",
            "---  ------  --------------  -----  \n",
            " 0   Price   2787 non-null   float64\n",
            "dtypes: float64(1)\n",
            "memory usage: 43.5 KB\n"
          ],
          "name": "stdout"
        }
      ]
    },
    {
      "cell_type": "code",
      "metadata": {
        "colab": {
          "base_uri": "https://localhost:8080/",
          "height": 442
        },
        "id": "CfkhZhmCEyUe",
        "outputId": "ac6130af-067c-4f5e-ca71-08868e5263cc"
      },
      "source": [
        "bitcoin_prices.plot(figsize=(10, 7));"
      ],
      "execution_count": 6,
      "outputs": [
        {
          "output_type": "display_data",
          "data": {
            "image/png": "[encoded data removed]",
            "text/plain": [
              "<Figure size 720x504 with 1 Axes>"
            ]
          },
          "metadata": {
            "tags": [],
            "needs_background": "light"
          }
        }
      ]
    },
    {
      "cell_type": "code",
      "metadata": {
        "colab": {
          "base_uri": "https://localhost:8080/",
          "height": 225
        },
        "id": "v-hEaaGjePVD",
        "outputId": "edb11e48-accd-42c3-ef3f-48e0dae00fd1"
      },
      "source": [
        "bitcoin_prices.head()"
      ],
      "execution_count": 7,
      "outputs": [
        {
          "output_type": "execute_result",
          "data": {
            "text/html": [
              "<div>\n",
              "<style scoped>\n",
              "    .dataframe tbody tr th:only-of-type {\n",
              "        vertical-align: middle;\n",
              "    }\n",
              "\n",
              "    .dataframe tbody tr th {\n",
              "        vertical-align: top;\n",
              "    }\n",
              "\n",
              "    .dataframe thead th {\n",
              "        text-align: right;\n",
              "    }\n",
              "</style>\n",
              "<table border=\"1\" class=\"dataframe\">\n",
              "  <thead>\n",
              "    <tr style=\"text-align: right;\">\n",
              "      <th></th>\n",
              "      <th>Price</th>\n",
              "    </tr>\n",
              "    <tr>\n",
              "      <th>Date</th>\n",
              "      <th></th>\n",
              "    </tr>\n",
              "  </thead>\n",
              "  <tbody>\n",
              "    <tr>\n",
              "      <th>2013-10-01</th>\n",
              "      <td>123.65499</td>\n",
              "    </tr>\n",
              "    <tr>\n",
              "      <th>2013-10-02</th>\n",
              "      <td>125.45500</td>\n",
              "    </tr>\n",
              "    <tr>\n",
              "      <th>2013-10-03</th>\n",
              "      <td>108.58483</td>\n",
              "    </tr>\n",
              "    <tr>\n",
              "      <th>2013-10-04</th>\n",
              "      <td>118.67466</td>\n",
              "    </tr>\n",
              "    <tr>\n",
              "      <th>2013-10-05</th>\n",
              "      <td>121.33866</td>\n",
              "    </tr>\n",
              "  </tbody>\n",
              "</table>\n",
              "</div>"
            ],
            "text/plain": [
              "                Price\n",
              "Date                 \n",
              "2013-10-01  123.65499\n",
              "2013-10-02  125.45500\n",
              "2013-10-03  108.58483\n",
              "2013-10-04  118.67466\n",
              "2013-10-05  121.33866"
            ]
          },
          "metadata": {
            "tags": []
          },
          "execution_count": 7
        }
      ]
    },
    {
      "cell_type": "code",
      "metadata": {
        "colab": {
          "base_uri": "https://localhost:8080/",
          "height": 225
        },
        "id": "HZCQEgDSeJ2p",
        "outputId": "659d6064-8192-4f91-88d2-3277db4d5986"
      },
      "source": [
        "# Windowing data\n",
        "bitcoin_prices[\"Shift+1\"] = bitcoin_prices[\"Price\"].shift(1)\n",
        "bitcoin_prices.head()"
      ],
      "execution_count": 8,
      "outputs": [
        {
          "output_type": "execute_result",
          "data": {
            "text/html": [
              "<div>\n",
              "<style scoped>\n",
              "    .dataframe tbody tr th:only-of-type {\n",
              "        vertical-align: middle;\n",
              "    }\n",
              "\n",
              "    .dataframe tbody tr th {\n",
              "        vertical-align: top;\n",
              "    }\n",
              "\n",
              "    .dataframe thead th {\n",
              "        text-align: right;\n",
              "    }\n",
              "</style>\n",
              "<table border=\"1\" class=\"dataframe\">\n",
              "  <thead>\n",
              "    <tr style=\"text-align: right;\">\n",
              "      <th></th>\n",
              "      <th>Price</th>\n",
              "      <th>Shift+1</th>\n",
              "    </tr>\n",
              "    <tr>\n",
              "      <th>Date</th>\n",
              "      <th></th>\n",
              "      <th></th>\n",
              "    </tr>\n",
              "  </thead>\n",
              "  <tbody>\n",
              "    <tr>\n",
              "      <th>2013-10-01</th>\n",
              "      <td>123.65499</td>\n",
              "      <td>NaN</td>\n",
              "    </tr>\n",
              "    <tr>\n",
              "      <th>2013-10-02</th>\n",
              "      <td>125.45500</td>\n",
              "      <td>123.65499</td>\n",
              "    </tr>\n",
              "    <tr>\n",
              "      <th>2013-10-03</th>\n",
              "      <td>108.58483</td>\n",
              "      <td>125.45500</td>\n",
              "    </tr>\n",
              "    <tr>\n",
              "      <th>2013-10-04</th>\n",
              "      <td>118.67466</td>\n",
              "      <td>108.58483</td>\n",
              "    </tr>\n",
              "    <tr>\n",
              "      <th>2013-10-05</th>\n",
              "      <td>121.33866</td>\n",
              "      <td>118.67466</td>\n",
              "    </tr>\n",
              "  </tbody>\n",
              "</table>\n",
              "</div>"
            ],
            "text/plain": [
              "                Price    Shift+1\n",
              "Date                            \n",
              "2013-10-01  123.65499        NaN\n",
              "2013-10-02  125.45500  123.65499\n",
              "2013-10-03  108.58483  125.45500\n",
              "2013-10-04  118.67466  108.58483\n",
              "2013-10-05  121.33866  118.67466"
            ]
          },
          "metadata": {
            "tags": []
          },
          "execution_count": 8
        }
      ]
    },
    {
      "cell_type": "markdown",
      "metadata": {
        "id": "O2C1JsHUPYGG"
      },
      "source": [
        "### Importing time series as a CSV"
      ]
    },
    {
      "cell_type": "code",
      "metadata": {
        "colab": {
          "base_uri": "https://localhost:8080/"
        },
        "id": "UkTvwP2DCuGK",
        "outputId": "972db2ae-e874-4aa1-e450-86be70bae8b5"
      },
      "source": [
        "# Importing with Python CSV - https://realpython.com/python-csv/\n",
        "import csv\n",
        "from datetime import datetime\n",
        "\n",
        "timesteps = []\n",
        "btc_price = []\n",
        "with open(\"/content/BTC_USD_2013-10-01_2021-05-18-CoinDesk.csv\", \"r\") as f:\n",
        "  csv_reader = csv.reader(f, delimiter=\",\")\n",
        "  next(csv_reader) # skip first line\n",
        "  for line in csv_reader:\n",
        "    timesteps.append(datetime.strptime(line[1], \"%Y-%m-%d\")) # get the dates as dates (not strings)\n",
        "    btc_price.append(float(line[2])) # get the closing price as float\n",
        "\n",
        "# View first 10\n",
        "timesteps[:10], btc_price[:10]"
      ],
      "execution_count": 9,
      "outputs": [
        {
          "output_type": "execute_result",
          "data": {
            "text/plain": [
              "([datetime.datetime(2013, 10, 1, 0, 0),\n",
              "  datetime.datetime(2013, 10, 2, 0, 0),\n",
              "  datetime.datetime(2013, 10, 3, 0, 0),\n",
              "  datetime.datetime(2013, 10, 4, 0, 0),\n",
              "  datetime.datetime(2013, 10, 5, 0, 0),\n",
              "  datetime.datetime(2013, 10, 6, 0, 0),\n",
              "  datetime.datetime(2013, 10, 7, 0, 0),\n",
              "  datetime.datetime(2013, 10, 8, 0, 0),\n",
              "  datetime.datetime(2013, 10, 9, 0, 0),\n",
              "  datetime.datetime(2013, 10, 10, 0, 0)],\n",
              " [123.65499,\n",
              "  125.455,\n",
              "  108.58483,\n",
              "  118.67466,\n",
              "  121.33866,\n",
              "  120.65533,\n",
              "  121.795,\n",
              "  123.033,\n",
              "  124.049,\n",
              "  125.96116])"
            ]
          },
          "metadata": {
            "tags": []
          },
          "execution_count": 9
        }
      ]
    },
    {
      "cell_type": "code",
      "metadata": {
        "colab": {
          "base_uri": "https://localhost:8080/",
          "height": 442
        },
        "id": "bTSX7RZ9Cytj",
        "outputId": "179fc1e0-9064-463e-9c22-9966d7b03b6a"
      },
      "source": [
        "# Plot from CSV\n",
        "import matplotlib.pyplot as plt\n",
        "import numpy as np\n",
        "plt.figure(figsize=(10, 7))\n",
        "plt.plot(timesteps, np.array(btc_price))\n",
        "plt.xlabel(\"Date\")\n",
        "plt.ylabel(\"BTC Price\");"
      ],
      "execution_count": 10,
      "outputs": [
        {
          "output_type": "display_data",
          "data": {
            "image/png": "[encoded data removed]",
            "text/plain": [
              "<Figure size 720x504 with 1 Axes>"
            ]
          },
          "metadata": {
            "tags": [],
            "needs_background": "light"
          }
        }
      ]
    },
    {
      "cell_type": "markdown",
      "metadata": {
        "id": "_nfP7i9R_dOp"
      },
      "source": [
        "## TODO: Format data \n",
        "\n",
        "* Turn data into a windowed dataset\n",
        "* Training/test sets for time series\n",
        "* Univariate - Bitcoin's price history\n",
        "* Multivariate - Bitcoin's price history + block size"
      ]
    },
    {
      "cell_type": "markdown",
      "metadata": {
        "id": "prkQhgiHNOKd"
      },
      "source": [
        "### TODO: Create train & test sets for time series\n",
        "\n",
        "* Note: cannot do random split, time series will buckle under this (using future values in the past)\n",
        "* Need to make train set: values from past, test set: values from \"future\""
      ]
    },
    {
      "cell_type": "code",
      "metadata": {
        "colab": {
          "base_uri": "https://localhost:8080/"
        },
        "id": "wxQbuGVTRFKX",
        "outputId": "bae14c50-98ec-47a4-ef3a-271f3f545be1"
      },
      "source": [
        "# Get bitcoin date array\n",
        "timesteps = bitcoin_prices.index.to_numpy()\n",
        "prices = bitcoin_prices[\"Price\"].to_numpy()\n",
        "\n",
        "timesteps[:10], prices[:10]"
      ],
      "execution_count": 14,
      "outputs": [
        {
          "output_type": "execute_result",
          "data": {
            "text/plain": [
              "(array(['2013-10-01T00:00:00.000000000', '2013-10-02T00:00:00.000000000',\n",
              "        '2013-10-03T00:00:00.000000000', '2013-10-04T00:00:00.000000000',\n",
              "        '2013-10-05T00:00:00.000000000', '2013-10-06T00:00:00.000000000',\n",
              "        '2013-10-07T00:00:00.000000000', '2013-10-08T00:00:00.000000000',\n",
              "        '2013-10-09T00:00:00.000000000', '2013-10-10T00:00:00.000000000'],\n",
              "       dtype='datetime64[ns]'),\n",
              " array([123.65499, 125.455  , 108.58483, 118.67466, 121.33866, 120.65533,\n",
              "        121.795  , 123.033  , 124.049  , 125.96116]))"
            ]
          },
          "metadata": {
            "tags": []
          },
          "execution_count": 14
        }
      ]
    },
    {
      "cell_type": "code",
      "metadata": {
        "colab": {
          "base_uri": "https://localhost:8080/"
        },
        "id": "eGY7hTfyNLZ1",
        "outputId": "8758e711-d6c1-4659-e26c-a7d2d91ed366"
      },
      "source": [
        "# Wrong way to make train/test sets for time series\n",
        "from sklearn.model_selection import train_test_split \n",
        "\n",
        "X_train, X_test, y_train, y_test = train_test_split(timesteps, # dates\n",
        "                                                    prices, # prices\n",
        "                                                    test_size=0.2,\n",
        "                                                    random_state=42)\n",
        "X_train.shape, X_test.shape, y_train.shape, y_test.shape "
      ],
      "execution_count": 15,
      "outputs": [
        {
          "output_type": "execute_result",
          "data": {
            "text/plain": [
              "((2229,), (558,), (2229,), (558,))"
            ]
          },
          "metadata": {
            "tags": []
          },
          "execution_count": 15
        }
      ]
    },
    {
      "cell_type": "code",
      "metadata": {
        "colab": {
          "base_uri": "https://localhost:8080/",
          "height": 442
        },
        "id": "cvH_0RvSNLWm",
        "outputId": "e6c3992b-be5f-42a0-8f03-98c6e273a627"
      },
      "source": [
        "# Let's plot wrong train and test splits\n",
        "plt.figure(figsize=(10, 7))\n",
        "plt.scatter(X_train, y_train, s=5, label=\"Train data\")\n",
        "plt.scatter(X_test, y_test, s=5, label=\"Test data\")\n",
        "plt.xlabel(\"Date\")\n",
        "plt.ylabel(\"BTC Price\")\n",
        "plt.legend()\n",
        "plt.show();"
      ],
      "execution_count": 16,
      "outputs": [
        {
          "output_type": "display_data",
          "data": {
            "image/png": "[encoded data removed]",
            "text/plain": [
              "<Figure size 720x504 with 1 Axes>"
            ]
          },
          "metadata": {
            "tags": [],
            "needs_background": "light"
          }
        }
      ]
    },
    {
      "cell_type": "markdown",
      "metadata": {
        "id": "OK9sORtjRh5z"
      },
      "source": [
        "* TODO: Note: time series forecasting can often have many less data points than traditional deep learning projects (e.g. the entire history of BTC daily price data = only ~3000 samples)\n",
        "\n",
        "* TODO: What kind of steps should we predict? E.g. 80/20 split is that realisitic? You may want to use all of the data up until the last week..."
      ]
    },
    {
      "cell_type": "code",
      "metadata": {
        "colab": {
          "base_uri": "https://localhost:8080/"
        },
        "id": "lpEVKyXANLT4",
        "outputId": "f787fe68-28e5-4d57-a70a-40945ce9faba"
      },
      "source": [
        "# Create train and test splits the right way for time series data\n",
        "split_size = int(0.8 * len(prices)) # 80% train, 20% test\n",
        "\n",
        "# Create train data splits\n",
        "X_train, y_train = timesteps[:split_size], prices[:split_size]\n",
        "\n",
        "# Create test data splits\n",
        "X_test, y_test = timesteps[split_size:], prices[split_size:]\n",
        "\n",
        "X_train.shape, X_test.shape, y_train.shape, y_test.shape"
      ],
      "execution_count": 17,
      "outputs": [
        {
          "output_type": "execute_result",
          "data": {
            "text/plain": [
              "((2229,), (558,), (2229,), (558,))"
            ]
          },
          "metadata": {
            "tags": []
          },
          "execution_count": 17
        }
      ]
    },
    {
      "cell_type": "code",
      "metadata": {
        "colab": {
          "base_uri": "https://localhost:8080/",
          "height": 442
        },
        "id": "d8EKkT11Q_7W",
        "outputId": "1126472d-a589-40b4-c74c-e84ba6fae4c2"
      },
      "source": [
        "# Plot correctly made splits\n",
        "plt.figure(figsize=(10, 7))\n",
        "plt.scatter(X_train, y_train, s=5, label=\"Train data\")\n",
        "plt.scatter(X_test, y_test, s=5, label=\"Test data\")\n",
        "plt.xlabel(\"Date\")\n",
        "plt.ylabel(\"BTC Price\")\n",
        "plt.legend()\n",
        "plt.show();"
      ],
      "execution_count": 18,
      "outputs": [
        {
          "output_type": "display_data",
          "data": {
            "image/png": "[encoded data removed]",
            "text/plain": [
              "<Figure size 720x504 with 1 Axes>"
            ]
          },
          "metadata": {
            "tags": [],
            "needs_background": "light"
          }
        }
      ]
    },
    {
      "cell_type": "markdown",
      "metadata": {
        "id": "cwSpQQRl_dHb"
      },
      "source": [
        "## TODO: Model data\n",
        "\n",
        "* Baseline - naive forecasting\n",
        "* Baseline 2 - moving average\n",
        "* Baseline 3 - random forest regressor\n",
        "* Deep model - fully connected\n",
        "* Sequence models\n",
        "* LSTM\n",
        "* Conv1D\n",
        "* N-Beats algorithm - https://arxiv.org/pdf/1905.10437.pdf"
      ]
    },
    {
      "cell_type": "markdown",
      "metadata": {
        "id": "JO1YAv7w_dE7"
      },
      "source": [
        "### Model 0: Naive forecast\n",
        "\n",
        "Naive forecast = Use the previous timestep to predict the next timestep\n",
        "\n",
        "$$\\hat{y}_{t} = y_{t-1}$$ "
      ]
    },
    {
      "cell_type": "code",
      "metadata": {
        "colab": {
          "base_uri": "https://localhost:8080/"
        },
        "id": "nCKGUO4OVos9",
        "outputId": "2861bd99-67ef-4b37-b223-c2ead6171331"
      },
      "source": [
        "naive_forecast = y_test[:-1]\n",
        "naive_forecast[:10]"
      ],
      "execution_count": 19,
      "outputs": [
        {
          "output_type": "execute_result",
          "data": {
            "text/plain": [
              "array([9226.48582088, 8794.35864452, 8798.04205463, 9081.18687849,\n",
              "       8711.53433917, 8760.89271814, 8749.52059102, 8656.97092235,\n",
              "       8500.64355816, 8469.2608989 ])"
            ]
          },
          "metadata": {
            "tags": []
          },
          "execution_count": 19
        }
      ]
    },
    {
      "cell_type": "code",
      "metadata": {
        "colab": {
          "base_uri": "https://localhost:8080/",
          "height": 442
        },
        "id": "a0NLHXDhWDX-",
        "outputId": "bb80e83b-6c0d-4644-d96c-31e8b1ab7726"
      },
      "source": [
        "# Plot naive forecast\n",
        "plt.figure(figsize=(10, 7))\n",
        "plt.scatter(X_train, y_train, s=5, label=\"Train data\")\n",
        "plt.scatter(X_test, y_test, s=5, label=\"Test data\")\n",
        "plt.scatter(X_test[1:], naive_forecast, s=5, label=\"Naive forecast\")\n",
        "plt.xlabel(\"Date\")\n",
        "plt.ylabel(\"BTC Price\")\n",
        "plt.legend()\n",
        "plt.show();"
      ],
      "execution_count": 20,
      "outputs": [
        {
          "output_type": "display_data",
          "data": {
            "image/png": "[encoded data removed]",
            "text/plain": [
              "<Figure size 720x504 with 1 Axes>"
            ]
          },
          "metadata": {
            "tags": [],
            "needs_background": "light"
          }
        }
      ]
    },
    {
      "cell_type": "code",
      "metadata": {
        "id": "dx0wUhtOW_VX"
      },
      "source": [
        "def plot_zoomed_in(new_preds=None, new_preds_name=\"New Preds\", zoom_timesteps=100, plot_naive=True):\n",
        "  # Plot naive forecast zoomed in\n",
        "  plt.figure(figsize=(10, 7))\n",
        "  plt.plot(X_test[-zoom_timesteps:], y_test[-zoom_timesteps:], label=\"Test data\")\n",
        "  if plot_naive:\n",
        "    plt.plot(X_test[1:][-zoom_timesteps:], naive_forecast[-zoom_timesteps:], label=\"Naive forecast\")\n",
        "  if new_preds != None:\n",
        "    plt.plot(X_test[-zoom_timesteps:], new_preds[-zoom_timesteps:], label=new_preds_name)\n",
        "  plt.xlabel(\"Date\")\n",
        "  plt.ylabel(\"BTC Price\")\n",
        "  plt.legend()\n",
        "  plt.show();"
      ],
      "execution_count": 21,
      "outputs": []
    },
    {
      "cell_type": "code",
      "metadata": {
        "colab": {
          "base_uri": "https://localhost:8080/",
          "height": 442
        },
        "id": "E1gbUOr3U5Vt",
        "outputId": "dc1d7fad-fd5b-482d-b06b-04ef3fe2fd83"
      },
      "source": [
        "plot_zoomed_in()"
      ],
      "execution_count": 22,
      "outputs": [
        {
          "output_type": "display_data",
          "data": {
            "image/png": "[encoded data removed]",
            "text/plain": [
              "<Figure size 720x504 with 1 Axes>"
            ]
          },
          "metadata": {
            "tags": [],
            "needs_background": "light"
          }
        }
      ]
    },
    {
      "cell_type": "markdown",
      "metadata": {
        "id": "UdK4KoFnA90I"
      },
      "source": [
        "## TODO: Evaluating a time series model\n",
        "\n",
        "TK - this can be a function for each model (compares predictions to ground truth...)"
      ]
    },
    {
      "cell_type": "code",
      "metadata": {
        "id": "ljaO69huYCZD"
      },
      "source": [
        "import tensorflow as tf"
      ],
      "execution_count": 23,
      "outputs": []
    },
    {
      "cell_type": "code",
      "metadata": {
        "id": "ZaSHxVMqYBnG"
      },
      "source": [
        "def scaled_mape(y_true, y_pred):\n",
        "  return tf.reduce_mean(200 * (tf.abs(y_true - y_pred)/(tf.abs(y_true) + tf.abs(y_pred))))"
      ],
      "execution_count": 24,
      "outputs": []
    },
    {
      "cell_type": "code",
      "metadata": {
        "id": "MwMeVgRXWaJp"
      },
      "source": [
        "def evaluate_preds(y_true, y_pred, use_window=True, window_size=10):\n",
        "  # TODO: does this need to go from Numpy -> tensorflow -> Numpy??\n",
        "  # TODO: could use sklearn to fix the above\n",
        "\n",
        "  # Account for window size\n",
        "  if use_window:\n",
        "    y_true = y_true[window_size:]\n",
        "  \n",
        "  # Turn into tensors\n",
        "  y_true = tf.constant(y_true, dtype=tf.float32)\n",
        "  y_pred = tf.constant(y_pred, dtype=tf.float32)\n",
        "\n",
        "  # Calculate various metrics\n",
        "  mae = tf.keras.metrics.mean_absolute_error(y_true, y_pred)\n",
        "  mse = tf.keras.metrics.mean_squared_error(y_true, y_pred)\n",
        "  mape = tf.keras.metrics.mean_absolute_percentage_error(y_true, y_pred)\n",
        "  smape = scaled_mape(y_true, y_pred)\n",
        "  return {\"mae\": mae.numpy(),\n",
        "          \"mse\": mse.numpy(),\n",
        "          \"mape\": mape.numpy(),\n",
        "          \"smape\": smape.numpy()}"
      ],
      "execution_count": 25,
      "outputs": []
    },
    {
      "cell_type": "code",
      "metadata": {
        "colab": {
          "base_uri": "https://localhost:8080/"
        },
        "id": "HbJlsvUwYEsf",
        "outputId": "83daf00d-0eeb-4973-cab4-9ffae92fb1ef"
      },
      "source": [
        "naive_results = evaluate_preds(y_true=y_test[1:],\n",
        "                               y_pred=naive_forecast,\n",
        "                               use_window=False)\n",
        "naive_results"
      ],
      "execution_count": 26,
      "outputs": [
        {
          "output_type": "execute_result",
          "data": {
            "text/plain": [
              "{'mae': 567.9802, 'mape': 2.516525, 'mse': 1147547.0, 'smape': 2.5180573}"
            ]
          },
          "metadata": {
            "tags": []
          },
          "execution_count": 26
        }
      ]
    },
    {
      "cell_type": "code",
      "metadata": {
        "id": "aWjMWY_BU53x"
      },
      "source": [
        "# TODO: Make evaluation function for various metrics..."
      ],
      "execution_count": 27,
      "outputs": []
    },
    {
      "cell_type": "markdown",
      "metadata": {
        "id": "e8AzwUvjBkgY"
      },
      "source": [
        "## Windowing dataset\n",
        "\n",
        "Why do we window?\n",
        "\n",
        "TODO: We can turn our time series data into a **supervised learning problem**: use windows of the past to predict the future."
      ]
    },
    {
      "cell_type": "code",
      "metadata": {
        "colab": {
          "base_uri": "https://localhost:8080/"
        },
        "id": "nIo5R-I8ZJZS",
        "outputId": "5d6a066c-ea60-458d-85ae-6ff1ea1085d9"
      },
      "source": [
        "X_train, y_train"
      ],
      "execution_count": 28,
      "outputs": [
        {
          "output_type": "execute_result",
          "data": {
            "text/plain": [
              "(array(['2013-10-01T00:00:00.000000000', '2013-10-02T00:00:00.000000000',\n",
              "        '2013-10-03T00:00:00.000000000', ...,\n",
              "        '2019-11-05T00:00:00.000000000', '2019-11-06T00:00:00.000000000',\n",
              "        '2019-11-07T00:00:00.000000000'], dtype='datetime64[ns]'),\n",
              " array([ 123.65499   ,  125.455     ,  108.58483   , ..., 9369.62808116,\n",
              "        9326.59962378, 9335.75240233]))"
            ]
          },
          "metadata": {
            "tags": []
          },
          "execution_count": 28
        }
      ]
    },
    {
      "cell_type": "code",
      "metadata": {
        "colab": {
          "base_uri": "https://localhost:8080/"
        },
        "id": "V413SOWmZJVW",
        "outputId": "9918884f-6904-4e47-857b-1b3a4f64afab"
      },
      "source": [
        "X_test[:10], y_test[:10]"
      ],
      "execution_count": 29,
      "outputs": [
        {
          "output_type": "execute_result",
          "data": {
            "text/plain": [
              "(array(['2019-11-08T00:00:00.000000000', '2019-11-09T00:00:00.000000000',\n",
              "        '2019-11-10T00:00:00.000000000', '2019-11-11T00:00:00.000000000',\n",
              "        '2019-11-12T00:00:00.000000000', '2019-11-13T00:00:00.000000000',\n",
              "        '2019-11-14T00:00:00.000000000', '2019-11-15T00:00:00.000000000',\n",
              "        '2019-11-16T00:00:00.000000000', '2019-11-17T00:00:00.000000000'],\n",
              "       dtype='datetime64[ns]'),\n",
              " array([9226.48582088, 8794.35864452, 8798.04205463, 9081.18687849,\n",
              "        8711.53433917, 8760.89271814, 8749.52059102, 8656.97092235,\n",
              "        8500.64355816, 8469.2608989 ]))"
            ]
          },
          "metadata": {
            "tags": []
          },
          "execution_count": 29
        }
      ]
    },
    {
      "cell_type": "markdown",
      "metadata": {
        "id": "IxZ6h88QZfOs"
      },
      "source": [
        "Want:\n",
        "\n",
        "```\n",
        "# Window for a week (univariate time series)\n",
        "[0, 1, 2, 3, 4, 5, 6] -> [7]\n",
        "[1, 2, 3, 4, 5, 6, 7] -> [8]\n",
        "[2, 3, 4, 5, 6, 7, 8] -> [9]\n",
        "```"
      ]
    },
    {
      "cell_type": "code",
      "metadata": {
        "id": "LibzWQXM2ib-"
      },
      "source": [
        "# Make windows of size 10\n",
        "WINDOW_SIZE = 10\n",
        "HORIZON = 1 # predict 1 step at a time"
      ],
      "execution_count": 266,
      "outputs": []
    },
    {
      "cell_type": "code",
      "metadata": {
        "id": "zV8pv5K_x81E"
      },
      "source": [
        "# Create function to label windowed data\n",
        "def get_labelled_windows(x, horizon=1):\n",
        "  \"\"\"\n",
        "  Creates labels for windowed dataset.\n",
        "\n",
        "  E.g. if horizon=1 (default)\n",
        "  [1, 2, 3, 4, 5, 6] -> ([1, 2, 3, 4, 5], [6])\n",
        "  \"\"\"\n",
        "  return x[:, :-horizon], x[:, -horizon:]"
      ],
      "execution_count": 267,
      "outputs": []
    },
    {
      "cell_type": "code",
      "metadata": {
        "id": "apea0wiJyCI6"
      },
      "source": [
        "# Create function to view NumPy arrays as windows\n",
        "def make_windows(x, window_size=10, horizon=1):\n",
        "  \"\"\"\n",
        "  Turns a 1D array into a 2D array of sequential windows of window_size.\n",
        "  \"\"\"\n",
        "  window_step = np.expand_dims(np.arange(window_size+horizon), axis=0) # create 2D array of window_size\n",
        "  window_indexes = window_step + np.expand_dims(np.arange((len(x)+1)-(window_size+horizon)), axis=0).T # create 2D array of windows of size window_size\n",
        "  windowed_array = x[window_indexes] # get the original array indexed with windows\n",
        "  windows, labels = get_labelled_windows(windowed_array, horizon=horizon)\n",
        "  return windows, labels"
      ],
      "execution_count": 268,
      "outputs": []
    },
    {
      "cell_type": "code",
      "metadata": {
        "colab": {
          "base_uri": "https://localhost:8080/"
        },
        "id": "Jfx4IhEnuWMM",
        "outputId": "9790e564-5bfa-43e4-803d-76df4637bad3"
      },
      "source": [
        "len(y_train)"
      ],
      "execution_count": 269,
      "outputs": [
        {
          "output_type": "execute_result",
          "data": {
            "text/plain": [
              "2229"
            ]
          },
          "metadata": {
            "tags": []
          },
          "execution_count": 269
        }
      ]
    },
    {
      "cell_type": "code",
      "metadata": {
        "colab": {
          "base_uri": "https://localhost:8080/"
        },
        "id": "4wnt-vr8zL_W",
        "outputId": "005e9374-e4a6-484b-9d52-cfb856c44d23"
      },
      "source": [
        "# Create supervised datasets (use 10 timesteps (WINDOW_SIZE) to predict next 1 timestep (HORIZON))\n",
        "train_windows, train_labels = make_windows(y_train, window_size=WINDOW_SIZE, horizon=HORIZON)\n",
        "test_windows, test_labels = make_windows(y_test, window_size=WINDOW_SIZE, horizon=HORIZON)\n",
        "train_windows[:5], train_labels[:5]"
      ],
      "execution_count": 270,
      "outputs": [
        {
          "output_type": "execute_result",
          "data": {
            "text/plain": [
              "(array([[123.65499, 125.455  , 108.58483, 118.67466, 121.33866, 120.65533,\n",
              "         121.795  , 123.033  , 124.049  , 125.96116],\n",
              "        [125.455  , 108.58483, 118.67466, 121.33866, 120.65533, 121.795  ,\n",
              "         123.033  , 124.049  , 125.96116, 125.27966],\n",
              "        [108.58483, 118.67466, 121.33866, 120.65533, 121.795  , 123.033  ,\n",
              "         124.049  , 125.96116, 125.27966, 125.9275 ],\n",
              "        [118.67466, 121.33866, 120.65533, 121.795  , 123.033  , 124.049  ,\n",
              "         125.96116, 125.27966, 125.9275 , 126.38333],\n",
              "        [121.33866, 120.65533, 121.795  , 123.033  , 124.049  , 125.96116,\n",
              "         125.27966, 125.9275 , 126.38333, 135.24199]]), array([[125.27966],\n",
              "        [125.9275 ],\n",
              "        [126.38333],\n",
              "        [135.24199],\n",
              "        [133.20333]]))"
            ]
          },
          "metadata": {
            "tags": []
          },
          "execution_count": 270
        }
      ]
    },
    {
      "cell_type": "code",
      "metadata": {
        "colab": {
          "base_uri": "https://localhost:8080/"
        },
        "id": "PRb-fC2gsEUG",
        "outputId": "f8ec7b71-9f4d-4d27-ad59-1f6664a556a6"
      },
      "source": [
        "len(train_windows[0])"
      ],
      "execution_count": 271,
      "outputs": [
        {
          "output_type": "execute_result",
          "data": {
            "text/plain": [
              "10"
            ]
          },
          "metadata": {
            "tags": []
          },
          "execution_count": 271
        }
      ]
    },
    {
      "cell_type": "markdown",
      "metadata": {
        "id": "ixZQ47QZY977"
      },
      "source": [
        "### TODO: Model 2: Random Forest Regressor"
      ]
    },
    {
      "cell_type": "code",
      "metadata": {
        "id": "mXTJvcqZsi8n"
      },
      "source": [
        "# TODO: ... why doesn't this work?"
      ],
      "execution_count": 235,
      "outputs": []
    },
    {
      "cell_type": "markdown",
      "metadata": {
        "id": "j5uw1AaVY-J9"
      },
      "source": [
        "## TODO: Model X: Dense model "
      ]
    },
    {
      "cell_type": "code",
      "metadata": {
        "id": "Fadbh94rY-WQ"
      },
      "source": [
        "import tensorflow as tf\n",
        "from tensorflow.keras import layers"
      ],
      "execution_count": 236,
      "outputs": []
    },
    {
      "cell_type": "code",
      "metadata": {
        "colab": {
          "base_uri": "https://localhost:8080/"
        },
        "id": "T3ytqCyZ3O4T",
        "outputId": "2c093a68-8408-4039-89e5-7483756eea6e"
      },
      "source": [
        "len(train_windows), len(test_windows)"
      ],
      "execution_count": 237,
      "outputs": [
        {
          "output_type": "execute_result",
          "data": {
            "text/plain": [
              "(2219, 548)"
            ]
          },
          "metadata": {
            "tags": []
          },
          "execution_count": 237
        }
      ]
    },
    {
      "cell_type": "code",
      "metadata": {
        "id": "Slr5hrJHY_Ed",
        "colab": {
          "base_uri": "https://localhost:8080/"
        },
        "outputId": "9133cfda-217f-41b0-d864-a386165dc491"
      },
      "source": [
        "model_1 = tf.keras.Sequential([\n",
        "  layers.Dense(128, activation=\"relu\"),\n",
        "  layers.Dense(1)                              \n",
        "], name=\"model_1_dense\")\n",
        "\n",
        "model_1.compile(loss=\"mae\",\n",
        "                optimizer=tf.keras.optimizers.Adam())\n",
        "\n",
        "model_1.fit(x=train_windows, \n",
        "            y=train_labels,\n",
        "            epochs=10,\n",
        "            validation_data=(test_windows, test_labels))"
      ],
      "execution_count": 238,
      "outputs": [
        {
          "output_type": "stream",
          "text": [
            "Epoch 1/10\n",
            "70/70 [==============================] - 1s 4ms/step - loss: 3084.0808 - val_loss: 1318.6444\n",
            "Epoch 2/10\n",
            "70/70 [==============================] - 0s 2ms/step - loss: 241.9701 - val_loss: 1191.6680\n",
            "Epoch 3/10\n",
            "70/70 [==============================] - 0s 2ms/step - loss: 175.5864 - val_loss: 1091.5194\n",
            "Epoch 4/10\n",
            "70/70 [==============================] - 0s 2ms/step - loss: 181.3572 - val_loss: 994.0839\n",
            "Epoch 5/10\n",
            "70/70 [==============================] - 0s 2ms/step - loss: 150.9893 - val_loss: 819.8408\n",
            "Epoch 6/10\n",
            "70/70 [==============================] - 0s 2ms/step - loss: 161.9060 - val_loss: 923.5942\n",
            "Epoch 7/10\n",
            "70/70 [==============================] - 0s 2ms/step - loss: 164.1407 - val_loss: 963.3075\n",
            "Epoch 8/10\n",
            "70/70 [==============================] - 0s 2ms/step - loss: 173.3283 - val_loss: 744.3494\n",
            "Epoch 9/10\n",
            "70/70 [==============================] - 0s 2ms/step - loss: 131.3962 - val_loss: 926.9908\n",
            "Epoch 10/10\n",
            "70/70 [==============================] - 0s 2ms/step - loss: 134.2390 - val_loss: 1043.0604\n"
          ],
          "name": "stdout"
        },
        {
          "output_type": "execute_result",
          "data": {
            "text/plain": [
              "<tensorflow.python.keras.callbacks.History at 0x7f1b3b803650>"
            ]
          },
          "metadata": {
            "tags": []
          },
          "execution_count": 238
        }
      ]
    },
    {
      "cell_type": "code",
      "metadata": {
        "id": "N1DbcEZBY_Bt",
        "colab": {
          "base_uri": "https://localhost:8080/"
        },
        "outputId": "4abf8ca0-2cb2-4f80-b2a9-3309fc3adfde"
      },
      "source": [
        "# Evaluate\n",
        "model_1.evaluate(test_windows, test_labels)"
      ],
      "execution_count": 239,
      "outputs": [
        {
          "output_type": "stream",
          "text": [
            "18/18 [==============================] - 0s 2ms/step - loss: 1043.0604\n"
          ],
          "name": "stdout"
        },
        {
          "output_type": "execute_result",
          "data": {
            "text/plain": [
              "1043.0604248046875"
            ]
          },
          "metadata": {
            "tags": []
          },
          "execution_count": 239
        }
      ]
    },
    {
      "cell_type": "code",
      "metadata": {
        "colab": {
          "base_uri": "https://localhost:8080/"
        },
        "id": "JlwfQWpp0WRy",
        "outputId": "9b621d3d-016d-417e-ade2-54104a8eddcd"
      },
      "source": [
        "# Make predictions\n",
        "model_1_preds = tf.squeeze(model_1.predict(test_windows))\n",
        "model_1_preds[:10]"
      ],
      "execution_count": 240,
      "outputs": [
        {
          "output_type": "execute_result",
          "data": {
            "text/plain": [
              "<tf.Tensor: shape=(10,), dtype=float32, numpy=\n",
              "array([8965.792 , 8797.307 , 8792.09  , 8594.366 , 8500.657 , 8201.584 ,\n",
              "       7912.922 , 7734.8105, 7436.4976, 7475.8057], dtype=float32)>"
            ]
          },
          "metadata": {
            "tags": []
          },
          "execution_count": 240
        }
      ]
    },
    {
      "cell_type": "code",
      "metadata": {
        "colab": {
          "base_uri": "https://localhost:8080/"
        },
        "id": "sOTxnH-i1UiM",
        "outputId": "04d4c90e-92ab-4e4c-d003-473d863c382a"
      },
      "source": [
        "model_1_preds[:10], y_test[:10]"
      ],
      "execution_count": 241,
      "outputs": [
        {
          "output_type": "execute_result",
          "data": {
            "text/plain": [
              "(<tf.Tensor: shape=(10,), dtype=float32, numpy=\n",
              " array([8965.792 , 8797.307 , 8792.09  , 8594.366 , 8500.657 , 8201.584 ,\n",
              "        7912.922 , 7734.8105, 7436.4976, 7475.8057], dtype=float32)>,\n",
              " array([9226.48582088, 8794.35864452, 8798.04205463, 9081.18687849,\n",
              "        8711.53433917, 8760.89271814, 8749.52059102, 8656.97092235,\n",
              "        8500.64355816, 8469.2608989 ]))"
            ]
          },
          "metadata": {
            "tags": []
          },
          "execution_count": 241
        }
      ]
    },
    {
      "cell_type": "code",
      "metadata": {
        "colab": {
          "base_uri": "https://localhost:8080/"
        },
        "id": "FySHvnass6DJ",
        "outputId": "fc299b6b-9860-4f17-8286-9d2f9eca9cd1"
      },
      "source": [
        "len(model_1_preds), len(y_test)"
      ],
      "execution_count": 242,
      "outputs": [
        {
          "output_type": "execute_result",
          "data": {
            "text/plain": [
              "(548, 558)"
            ]
          },
          "metadata": {
            "tags": []
          },
          "execution_count": 242
        }
      ]
    },
    {
      "cell_type": "code",
      "metadata": {
        "colab": {
          "base_uri": "https://localhost:8080/"
        },
        "id": "FA97fxEwtBEn",
        "outputId": "54821d5d-3db2-49ec-8f08-99b40f199aa8"
      },
      "source": [
        "model_1_preds[:10]"
      ],
      "execution_count": 243,
      "outputs": [
        {
          "output_type": "execute_result",
          "data": {
            "text/plain": [
              "<tf.Tensor: shape=(10,), dtype=float32, numpy=\n",
              "array([8965.792 , 8797.307 , 8792.09  , 8594.366 , 8500.657 , 8201.584 ,\n",
              "       7912.922 , 7734.8105, 7436.4976, 7475.8057], dtype=float32)>"
            ]
          },
          "metadata": {
            "tags": []
          },
          "execution_count": 243
        }
      ]
    },
    {
      "cell_type": "code",
      "metadata": {
        "colab": {
          "base_uri": "https://localhost:8080/"
        },
        "id": "A-yWtgFStJv2",
        "outputId": "b0ddb277-12fe-41d8-a768-7ab23b72e7f2"
      },
      "source": [
        "test_labels[:10], test_labels[-10:]"
      ],
      "execution_count": 244,
      "outputs": [
        {
          "output_type": "execute_result",
          "data": {
            "text/plain": [
              "(array([[8537.33965197],\n",
              "        [8205.80636599],\n",
              "        [8118.4885358 ],\n",
              "        [8074.84317361],\n",
              "        [7612.7405735 ],\n",
              "        [7262.11053495],\n",
              "        [7303.40575852],\n",
              "        [7041.73293642],\n",
              "        [7211.86180875],\n",
              "        [7141.06944869]]), array([[58788.20967893],\n",
              "        [58102.19142623],\n",
              "        [55715.54665129],\n",
              "        [56573.5554719 ],\n",
              "        [52147.82118698],\n",
              "        [49764.1320816 ],\n",
              "        [50032.69313676],\n",
              "        [47885.62525472],\n",
              "        [45604.61575361],\n",
              "        [43144.47129086]]))"
            ]
          },
          "metadata": {
            "tags": []
          },
          "execution_count": 244
        }
      ]
    },
    {
      "cell_type": "code",
      "metadata": {
        "colab": {
          "base_uri": "https://localhost:8080/"
        },
        "id": "4V36k3FgtmvO",
        "outputId": "25b047da-9684-4fa2-c99c-f14f3449d9bd"
      },
      "source": [
        "len(y_test)"
      ],
      "execution_count": 245,
      "outputs": [
        {
          "output_type": "execute_result",
          "data": {
            "text/plain": [
              "558"
            ]
          },
          "metadata": {
            "tags": []
          },
          "execution_count": 245
        }
      ]
    },
    {
      "cell_type": "code",
      "metadata": {
        "colab": {
          "base_uri": "https://localhost:8080/"
        },
        "id": "XKnIwGULtpjK",
        "outputId": "304ac3b0-d46a-4a6c-f74e-dd26d5e45270"
      },
      "source": [
        "558/10"
      ],
      "execution_count": 246,
      "outputs": [
        {
          "output_type": "execute_result",
          "data": {
            "text/plain": [
              "55.8"
            ]
          },
          "metadata": {
            "tags": []
          },
          "execution_count": 246
        }
      ]
    },
    {
      "cell_type": "code",
      "metadata": {
        "colab": {
          "base_uri": "https://localhost:8080/"
        },
        "id": "eYeJiHPSta3f",
        "outputId": "d081c63d-173e-4d9e-9c37-4c46bf3eafa3"
      },
      "source": [
        "y_test[-10:]"
      ],
      "execution_count": 247,
      "outputs": [
        {
          "output_type": "execute_result",
          "data": {
            "text/plain": [
              "array([58788.20967893, 58102.19142623, 55715.54665129, 56573.5554719 ,\n",
              "       52147.82118698, 49764.1320816 , 50032.69313676, 47885.62525472,\n",
              "       45604.61575361, 43144.47129086])"
            ]
          },
          "metadata": {
            "tags": []
          },
          "execution_count": 247
        }
      ]
    },
    {
      "cell_type": "code",
      "metadata": {
        "colab": {
          "base_uri": "https://localhost:8080/"
        },
        "id": "KVOaVix-tH64",
        "outputId": "890bdc88-d0b5-4872-d4ba-8e0b7b9be9ff"
      },
      "source": [
        "y_test[10:20]"
      ],
      "execution_count": 248,
      "outputs": [
        {
          "output_type": "execute_result",
          "data": {
            "text/plain": [
              "array([8537.33965197, 8205.80636599, 8118.4885358 , 8074.84317361,\n",
              "       7612.7405735 , 7262.11053495, 7303.40575852, 7041.73293642,\n",
              "       7211.86180875, 7141.06944869])"
            ]
          },
          "metadata": {
            "tags": []
          },
          "execution_count": 248
        }
      ]
    },
    {
      "cell_type": "code",
      "metadata": {
        "colab": {
          "base_uri": "https://localhost:8080/"
        },
        "id": "Cfr-IiXss_u1",
        "outputId": "7f8076f1-4016-4e3f-f579-21883b7f1f2b"
      },
      "source": [
        "WINDOW_SIZE"
      ],
      "execution_count": 249,
      "outputs": [
        {
          "output_type": "execute_result",
          "data": {
            "text/plain": [
              "10"
            ]
          },
          "metadata": {
            "tags": []
          },
          "execution_count": 249
        }
      ]
    },
    {
      "cell_type": "code",
      "metadata": {
        "colab": {
          "base_uri": "https://localhost:8080/"
        },
        "id": "uxL_PJ2S02qK",
        "outputId": "7e5660e9-88a0-4861-b070-c186a5d62621"
      },
      "source": [
        "# Evaluate preds\n",
        "model_1_results = evaluate_preds(y_true=y_test,\n",
        "                                 y_pred=model_1_preds,\n",
        "                                 use_window=True,\n",
        "                                 window_size=WINDOW_SIZE)\n",
        "model_1_results"
      ],
      "execution_count": 250,
      "outputs": [
        {
          "output_type": "execute_result",
          "data": {
            "text/plain": [
              "{'mae': 1043.0605, 'mape': 5.0917964, 'mse': 3113610.0, 'smape': 4.911267}"
            ]
          },
          "metadata": {
            "tags": []
          },
          "execution_count": 250
        }
      ]
    },
    {
      "cell_type": "code",
      "metadata": {
        "colab": {
          "base_uri": "https://localhost:8080/"
        },
        "id": "nBGC3IkE22bw",
        "outputId": "7745ff43-def4-4962-e425-05885b580b03"
      },
      "source": [
        "naive_results"
      ],
      "execution_count": 251,
      "outputs": [
        {
          "output_type": "execute_result",
          "data": {
            "text/plain": [
              "{'mae': 567.9802, 'mape': 2.516525, 'mse': 1147547.0, 'smape': 2.5180573}"
            ]
          },
          "metadata": {
            "tags": []
          },
          "execution_count": 251
        }
      ]
    },
    {
      "cell_type": "code",
      "metadata": {
        "colab": {
          "base_uri": "https://localhost:8080/",
          "height": 442
        },
        "id": "wAOBjvMq3YHx",
        "outputId": "cd820d5a-e206-4067-9879-2ad119913c03"
      },
      "source": [
        "# Plot model_1 results\n",
        "plot_zoomed_in(new_preds=model_1_preds, plot_naive=True)"
      ],
      "execution_count": 252,
      "outputs": [
        {
          "output_type": "display_data",
          "data": {
            "image/png": "[encoded data removed]",
            "text/plain": [
              "<Figure size 720x504 with 1 Axes>"
            ]
          },
          "metadata": {
            "tags": [],
            "needs_background": "light"
          }
        }
      ]
    },
    {
      "cell_type": "markdown",
      "metadata": {
        "id": "fr18ffVq4i6m"
      },
      "source": [
        "## TODO: Model X: Larger window + horizon\n",
        "\n",
        "TK - What happens if we make a larger window & horizon?\n",
        "\n",
        "* TK - Window & horizon values are values you can tune..."
      ]
    },
    {
      "cell_type": "code",
      "metadata": {
        "id": "Vz0eMi7F4wpn"
      },
      "source": [
        "HORIZON = 14 # predict two weeks at a time\n",
        "WINDOW_SIZE = 140 # use 140 timesteps in the past"
      ],
      "execution_count": 516,
      "outputs": []
    },
    {
      "cell_type": "code",
      "metadata": {
        "colab": {
          "base_uri": "https://localhost:8080/"
        },
        "id": "1HlYaAxr6UoC",
        "outputId": "3ab4e2b0-59a7-4a7a-834a-f9ef98ea82c2"
      },
      "source": [
        "train_windows, train_labels = make_windows(y_train, window_size=WINDOW_SIZE, horizon=HORIZON)\n",
        "test_windows, test_labels = make_windows(y_test, window_size=WINDOW_SIZE, horizon=HORIZON)\n",
        "train_windows[0], train_labels[0]"
      ],
      "execution_count": 517,
      "outputs": [
        {
          "output_type": "execute_result",
          "data": {
            "text/plain": [
              "(array([ 123.65499,  125.455  ,  108.58483,  118.67466,  121.33866,\n",
              "         120.65533,  121.795  ,  123.033  ,  124.049  ,  125.96116,\n",
              "         125.27966,  125.9275 ,  126.38333,  135.24199,  133.20333,\n",
              "         142.76333,  137.92333,  142.95166,  152.55183,  160.33883,\n",
              "         164.31499,  177.63333,  188.29716,  200.70166,  180.355  ,\n",
              "         175.03166,  177.6965 ,  187.15983,  192.75666,  197.4    ,\n",
              "         196.02499,  198.04883,  198.93233,  200.543  ,  210.3075 ,\n",
              "         225.02   ,  248.25333,  262.32666,  294.48699,  331.10325,\n",
              "         285.8875 ,  304.97974,  338.137  ,  357.48   ,  402.954  ,\n",
              "         409.10375,  420.21649,  437.29725,  510.6025 ,  693.65   ,\n",
              "         531.54249,  574.71599,  681.33   ,  774.18   ,  746.19374,\n",
              "         768.8475 ,  789.36475,  893.1815 ,  934.355  , 1068.363  ,\n",
              "        1154.92593, 1099.51926, 1019.78966, 1028.845  , 1071.2848 ,\n",
              "        1139.33083, 1004.61633,  759.43041,  689.81   ,  841.83966,\n",
              "         916.77599,  967.42866,  866.29003,  911.23204,  889.81946,\n",
              "         848.9975 ,  868.95316,  653.80483,  654.06266,  553.69166,\n",
              "         693.05883,  649.38965,  595.95883,  647.68316,  671.58116,\n",
              "         659.84333,  702.00083,  758.01016,  734.01166,  717.92623,\n",
              "         752.82022,  744.17249,  768.40783,  769.09849,  804.02719,\n",
              "         813.31748,  871.11583,  970.65083,  962.46447,  855.75933,\n",
              "         860.84166,  847.5325 ,  892.26115,  916.69666,  873.27168,\n",
              "         863.69888,  853.25666,  874.07416,  842.19173,  834.86666,\n",
              "         838.42916,  881.87583,  873.28916,  874.13266,  864.56116,\n",
              "         838.14997,  834.57416,  858.12641,  887.08337,  830.53133,\n",
              "         832.89496,  832.87399,  841.48914,  847.36383,  854.7225 ,\n",
              "         856.03366,  847.70697,  844.28836,  802.75333,  748.43559,\n",
              "         692.66914,  668.86463,  700.44843,  694.3125 ,  665.7975 ,\n",
              "         645.615  ,  578.4125 ,  641.91   ,  656.2725 ,  611.04499]),\n",
              " array([634.99  , 618.79  , 619.8425, 545.7625, 561.535 , 622.22  ,\n",
              "        572.7675, 501.155 , 550.6025, 573.1025, 567.2925, 551.73  ,\n",
              "        560.195 , 567.7   ]))"
            ]
          },
          "metadata": {
            "tags": []
          },
          "execution_count": 517
        }
      ]
    },
    {
      "cell_type": "code",
      "metadata": {
        "colab": {
          "base_uri": "https://localhost:8080/"
        },
        "id": "b_oz5aJE6UwN",
        "outputId": "f9668b58-69e3-441b-fb75-ce95f68236ad"
      },
      "source": [
        "model_2 = tf.keras.Sequential([\n",
        "  layers.Dense(128, activation=\"relu\"),\n",
        "  layers.Dense(HORIZON) # need to predict horizon number of steps into the future\n",
        "])\n",
        "\n",
        "model_2.compile(loss=\"mae\",\n",
        "                optimizer=tf.keras.optimizers.Adam())\n",
        "\n",
        "model_2.fit(train_windows,\n",
        "            train_labels,\n",
        "            epochs=5,\n",
        "            validation_data=(test_windows, test_labels))"
      ],
      "execution_count": 518,
      "outputs": [
        {
          "output_type": "stream",
          "text": [
            "Epoch 1/5\n",
            "65/65 [==============================] - 1s 5ms/step - loss: 1895.0439 - val_loss: 3550.1238\n",
            "Epoch 2/5\n",
            "65/65 [==============================] - 0s 2ms/step - loss: 565.9901 - val_loss: 2978.1265\n",
            "Epoch 3/5\n",
            "65/65 [==============================] - 0s 2ms/step - loss: 495.8392 - val_loss: 2604.2800\n",
            "Epoch 4/5\n",
            "65/65 [==============================] - 0s 2ms/step - loss: 438.9620 - val_loss: 2537.1375\n",
            "Epoch 5/5\n",
            "65/65 [==============================] - 0s 2ms/step - loss: 445.1391 - val_loss: 2529.3965\n"
          ],
          "name": "stdout"
        },
        {
          "output_type": "execute_result",
          "data": {
            "text/plain": [
              "<tensorflow.python.keras.callbacks.History at 0x7f1b3b7d7ad0>"
            ]
          },
          "metadata": {
            "tags": []
          },
          "execution_count": 518
        }
      ]
    },
    {
      "cell_type": "code",
      "metadata": {
        "id": "W42Fa-aO8rhg",
        "colab": {
          "base_uri": "https://localhost:8080/"
        },
        "outputId": "e83da591-057f-4b2f-80d0-829aa4378e7a"
      },
      "source": [
        "# Evaluate model 2 preds\n",
        "model_2.evaluate(test_windows, test_labels)"
      ],
      "execution_count": 519,
      "outputs": [
        {
          "output_type": "stream",
          "text": [
            "13/13 [==============================] - 0s 1ms/step - loss: 2529.3965\n"
          ],
          "name": "stdout"
        },
        {
          "output_type": "execute_result",
          "data": {
            "text/plain": [
              "2529.396484375"
            ]
          },
          "metadata": {
            "tags": []
          },
          "execution_count": 519
        }
      ]
    },
    {
      "cell_type": "code",
      "metadata": {
        "colab": {
          "base_uri": "https://localhost:8080/"
        },
        "id": "3YHERb_g8hL5",
        "outputId": "48bc4224-335f-4522-ffc7-08d52be22667"
      },
      "source": [
        "model_2_preds = model_2.predict(test_windows)\n",
        "model_2_preds"
      ],
      "execution_count": 520,
      "outputs": [
        {
          "output_type": "execute_result",
          "data": {
            "text/plain": [
              "array([[ 6602.0825,  6997.6167,  6448.9087, ...,  6590.9326,  6612.2607,\n",
              "         6425.3823],\n",
              "       [ 6699.1387,  6882.939 ,  5989.629 , ...,  6739.698 ,  6863.783 ,\n",
              "         6344.4688],\n",
              "       [ 6796.567 ,  6923.437 ,  6057.1597, ...,  6658.8765,  6709.9287,\n",
              "         5994.527 ],\n",
              "       ...,\n",
              "       [53112.06  , 62615.555 , 58679.746 , ..., 54776.41  , 58278.586 ,\n",
              "        58397.57  ],\n",
              "       [55288.55  , 61839.152 , 59771.344 , ..., 56245.043 , 59131.21  ,\n",
              "        59026.027 ],\n",
              "       [56090.395 , 62968.98  , 58286.176 , ..., 56585.195 , 57638.46  ,\n",
              "        57954.594 ]], dtype=float32)"
            ]
          },
          "metadata": {
            "tags": []
          },
          "execution_count": 520
        }
      ]
    },
    {
      "cell_type": "code",
      "metadata": {
        "colab": {
          "base_uri": "https://localhost:8080/"
        },
        "id": "fUnxNGeG3_wv",
        "outputId": "14793dee-fb7b-4904-92ed-3d96badceb87"
      },
      "source": [
        "model_2_preds.shape, test_labels.shape"
      ],
      "execution_count": 521,
      "outputs": [
        {
          "output_type": "execute_result",
          "data": {
            "text/plain": [
              "((405, 14), (405, 14))"
            ]
          },
          "metadata": {
            "tags": []
          },
          "execution_count": 521
        }
      ]
    },
    {
      "cell_type": "code",
      "metadata": {
        "id": "ma8hMD6_3ywH"
      },
      "source": [
        "def evaluate_preds(y_true, y_pred, use_window=True, window_size=10):\n",
        "  # Turn into tensors\n",
        "  y_true = tf.constant(y_true, dtype=tf.float32)\n",
        "  y_pred = tf.constant(y_pred, dtype=tf.float32)\n",
        "\n",
        "  # Account for window size\n",
        "  if use_window:\n",
        "    y_true = y_true[window_size:]\n",
        "\n",
        "  # If labels/preds are multi-dimensional (e.g. predicting more than 1 timestep, reshape for calculations)\n",
        "  if y_true.ndim > 1:\n",
        "    y_true = tf.reshape(y_true, [-1]) # flatten the input tensor\n",
        "    y_pred = tf.reshape(y_pred, [-1])\n",
        "\n",
        "  # Calculate various metrics\n",
        "  mae = tf.keras.metrics.mean_absolute_error(y_true, y_pred)\n",
        "  mse = tf.keras.metrics.mean_squared_error(y_true, y_pred)\n",
        "  mape = tf.keras.metrics.mean_absolute_percentage_error(y_true, y_pred)\n",
        "  smape = scaled_mape(y_true, y_pred)\n",
        "  return {\"mae\": mae.numpy(),\n",
        "          \"mse\": mse.numpy(),\n",
        "          \"mape\": mape.numpy(),\n",
        "          \"smape\": smape.numpy()}"
      ],
      "execution_count": 538,
      "outputs": []
    },
    {
      "cell_type": "code",
      "metadata": {
        "id": "CNsW4V7YKXjz"
      },
      "source": [
        "# test_labels.ravel(), model_2_preds.ravel()"
      ],
      "execution_count": 542,
      "outputs": []
    },
    {
      "cell_type": "code",
      "metadata": {
        "colab": {
          "base_uri": "https://localhost:8080/"
        },
        "id": "NlIv6CKG2285",
        "outputId": "eb06ee7e-f7b1-477d-e080-6d9d2b8965a6"
      },
      "source": [
        "model_2_results = evaluate_preds(y_true=test_labels,\n",
        "                                 y_pred=model_2_preds,\n",
        "                                 use_window=False)\n",
        "model_2_results"
      ],
      "execution_count": 539,
      "outputs": [
        {
          "output_type": "execute_result",
          "data": {
            "text/plain": [
              "{'mae': 2529.3965, 'mape': 9.727565, 'mse': 16825896.0, 'smape': 10.112202}"
            ]
          },
          "metadata": {
            "tags": []
          },
          "execution_count": 539
        }
      ]
    },
    {
      "cell_type": "code",
      "metadata": {
        "colab": {
          "base_uri": "https://localhost:8080/"
        },
        "id": "Gvrdd32T9P6g",
        "outputId": "93653f06-e576-445c-b272-61c65a90a67d"
      },
      "source": [
        "model_1_results"
      ],
      "execution_count": 484,
      "outputs": [
        {
          "output_type": "execute_result",
          "data": {
            "text/plain": [
              "{'mae': 1043.0605, 'mape': 5.0917964, 'mse': 3113610.0, 'smape': 4.911267}"
            ]
          },
          "metadata": {
            "tags": []
          },
          "execution_count": 484
        }
      ]
    },
    {
      "cell_type": "code",
      "metadata": {
        "colab": {
          "base_uri": "https://localhost:8080/"
        },
        "id": "BhTv7ENO9T_7",
        "outputId": "7e61bd3a-cf53-48d5-a008-62875cf4f47f"
      },
      "source": [
        "naive_results"
      ],
      "execution_count": 485,
      "outputs": [
        {
          "output_type": "execute_result",
          "data": {
            "text/plain": [
              "{'mae': 567.9802, 'mape': 2.516525, 'mse': 1147547.0, 'smape': 2.5180573}"
            ]
          },
          "metadata": {
            "tags": []
          },
          "execution_count": 485
        }
      ]
    },
    {
      "cell_type": "code",
      "metadata": {
        "colab": {
          "base_uri": "https://localhost:8080/"
        },
        "id": "boLm9LgdG4In",
        "outputId": "b79b8095-e52a-473a-c665-12a2bbc68b86"
      },
      "source": [
        "len(y_test[140+14-1:]), len(tf.reduce_mean(model_2_preds, axis=1))"
      ],
      "execution_count": 486,
      "outputs": [
        {
          "output_type": "execute_result",
          "data": {
            "text/plain": [
              "(405, 405)"
            ]
          },
          "metadata": {
            "tags": []
          },
          "execution_count": 486
        }
      ]
    },
    {
      "cell_type": "code",
      "metadata": {
        "colab": {
          "base_uri": "https://localhost:8080/"
        },
        "id": "ZMkpW7_9HCqG",
        "outputId": "e81dfd54-d484-4b4b-f02d-93881669508e"
      },
      "source": [
        "y_test[140:HORIZON+WINDOW_SIZE]"
      ],
      "execution_count": 493,
      "outputs": [
        {
          "output_type": "execute_result",
          "data": {
            "text/plain": [
              "array([6721.49539238, 6682.7800492 , 6229.48834283, 5922.48983509,\n",
              "       6483.73944553, 6446.42134684, 6537.3364615 , 6850.55871169,\n",
              "       6776.37009357, 6855.93326446, 6805.3622869 , 7278.24396977,\n",
              "       7175.66747656, 7367.29339845])"
            ]
          },
          "metadata": {
            "tags": []
          },
          "execution_count": 493
        }
      ]
    },
    {
      "cell_type": "code",
      "metadata": {
        "colab": {
          "base_uri": "https://localhost:8080/"
        },
        "id": "6TkSNZNbJNGP",
        "outputId": "d388faf3-9444-45b9-cc56-fc34a8280afa"
      },
      "source": [
        "len(y_test)"
      ],
      "execution_count": 525,
      "outputs": [
        {
          "output_type": "execute_result",
          "data": {
            "text/plain": [
              "558"
            ]
          },
          "metadata": {
            "tags": []
          },
          "execution_count": 525
        }
      ]
    },
    {
      "cell_type": "code",
      "metadata": {
        "colab": {
          "base_uri": "https://localhost:8080/"
        },
        "id": "eUQYZdayG8IL",
        "outputId": "af2eac44-be9b-45e9-9501-53612c5ec8b2"
      },
      "source": [
        "test_labels[0]"
      ],
      "execution_count": 489,
      "outputs": [
        {
          "output_type": "execute_result",
          "data": {
            "text/plain": [
              "array([6721.49539238, 6682.7800492 , 6229.48834283, 5922.48983509,\n",
              "       6483.73944553, 6446.42134684, 6537.3364615 , 6850.55871169,\n",
              "       6776.37009357, 6855.93326446, 6805.3622869 , 7278.24396977,\n",
              "       7175.66747656, 7367.29339845])"
            ]
          },
          "metadata": {
            "tags": []
          },
          "execution_count": 489
        }
      ]
    },
    {
      "cell_type": "code",
      "metadata": {
        "colab": {
          "base_uri": "https://localhost:8080/"
        },
        "id": "QvHknRVDIwK1",
        "outputId": "b6b2c1cd-d224-4338-8c89-c0032259169c"
      },
      "source": [
        "y_test[-14:]"
      ],
      "execution_count": 515,
      "outputs": [
        {
          "output_type": "execute_result",
          "data": {
            "text/plain": [
              "array([53658.84312082, 57252.7021845 , 56583.84987917, 57107.12067189,\n",
              "       58788.20967893, 58102.19142623, 55715.54665129, 56573.5554719 ,\n",
              "       52147.82118698, 49764.1320816 , 50032.69313676, 47885.62525472,\n",
              "       45604.61575361, 43144.47129086])"
            ]
          },
          "metadata": {
            "tags": []
          },
          "execution_count": 515
        }
      ]
    },
    {
      "cell_type": "code",
      "metadata": {
        "colab": {
          "base_uri": "https://localhost:8080/"
        },
        "id": "WmkuDUjXItHW",
        "outputId": "36afd9e4-bb0c-410c-b6cf-0a07bf351168"
      },
      "source": [
        "test_labels[-1]"
      ],
      "execution_count": 512,
      "outputs": [
        {
          "output_type": "execute_result",
          "data": {
            "text/plain": [
              "array([53658.84312082, 57252.7021845 , 56583.84987917, 57107.12067189,\n",
              "       58788.20967893, 58102.19142623, 55715.54665129, 56573.5554719 ,\n",
              "       52147.82118698, 49764.1320816 , 50032.69313676, 47885.62525472,\n",
              "       45604.61575361, 43144.47129086])"
            ]
          },
          "metadata": {
            "tags": []
          },
          "execution_count": 512
        }
      ]
    },
    {
      "cell_type": "code",
      "metadata": {
        "colab": {
          "base_uri": "https://localhost:8080/"
        },
        "id": "qElELnN_JaUw",
        "outputId": "18a0ec60-16cf-4eb3-f634-1532b7df5ef9"
      },
      "source": [
        "y_test[WINDOW_SIZE:-(len(y_test) % HORIZON)-1]"
      ],
      "execution_count": 527,
      "outputs": [
        {
          "output_type": "execute_result",
          "data": {
            "text/plain": [
              "array([ 6721.49539238,  6682.7800492 ,  6229.48834283,  5922.48983509,\n",
              "        6483.73944553,  6446.42134684,  6537.3364615 ,  6850.55871169,\n",
              "        6776.37009357,  6855.93326446,  6805.3622869 ,  7278.24396977,\n",
              "        7175.66747656,  7367.29339845,  7321.81661389,  6866.39818901,\n",
              "        6873.84849516,  7043.43886352,  6889.86377235,  6887.55490783,\n",
              "        6718.79995028,  7166.58281714,  7065.08238904,  7277.14058556,\n",
              "        7185.87030343,  6856.14643454,  6904.4757727 ,  7118.38874792,\n",
              "        7562.03283175,  7497.86176383,  7542.3034007 ,  7624.85378592,\n",
              "        7776.50754257,  7761.75878408,  8773.10648796,  8767.67262337,\n",
              "        8853.77448401,  8963.0575578 ,  8904.71381654,  8887.50589259,\n",
              "        8978.28358712,  9371.68427279,  9900.67886662,  9917.24841434,\n",
              "        9617.51819493,  8786.65518165,  8608.12524504,  8815.2312449 ,\n",
              "        9330.9864847 ,  9757.29658559,  9362.63555697,  9418.91855051,\n",
              "        9684.70195935,  9723.68015045,  9719.48085448,  9540.88656658,\n",
              "        9141.15063742,  9192.84513581,  9220.07588747,  9048.71511916,\n",
              "        8905.78160454,  8835.72722404,  9112.97917559,  9507.52466466,\n",
              "        9425.28186919,  9688.32439037,  9427.67008414, 10268.58198473,\n",
              "        9516.13544309,  9667.06075426,  9811.3670946 ,  9659.66129819,\n",
              "        9677.05099451,  9737.45855879,  9791.92789977,  9786.14202048,\n",
              "        9874.96704752,  9260.83264099,  9464.22809682,  9458.6597544 ,\n",
              "        9351.95372801,  9441.76899555,  9510.66063729,  9457.62707441,\n",
              "        9398.64209362,  9279.76076517,  9353.07819619,  9289.10449144,\n",
              "        9680.9471279 ,  9609.68024553,  9311.13631832,  9252.63337177,\n",
              "        9171.73208577,  9022.153768  ,  9101.85005736,  9188.06137546,\n",
              "        9148.44485856,  9236.31677043,  9097.79736639,  9094.32456102,\n",
              "        9124.6535344 ,  9055.46448252,  9278.80563704,  9244.41581454,\n",
              "        9471.75997342,  9236.14325371,  9243.17525915,  9229.85975494,\n",
              "        9286.73704209,  9238.99375486,  9260.47098018,  9211.02643289,\n",
              "        9133.77783034,  9160.41059149,  9176.6863901 ,  9190.2715342 ,\n",
              "        9172.58833257,  9395.06444588,  9530.79088535,  9617.37786138,\n",
              "        9568.97472596,  9708.9491401 ,  9938.95122286, 11187.77972696,\n",
              "       10939.67014155, 11284.45898685, 11118.91841243, 11373.31725664,\n",
              "       11766.74829709, 11139.09838035, 11261.80633174, 11228.02632402,\n",
              "       11653.40758556, 11796.81736499, 11639.93541013, 11744.9120755 ,\n",
              "       11673.12323754, 11832.22730813, 11340.58234064, 11549.54631437,\n",
              "       11752.16865623, 11783.28341126, 11895.62694989, 11896.94717019,\n",
              "       12399.11188466, 12071.73890908, 11749.82950876, 11833.8973487 ,\n",
              "       11583.13894263, 11674.62435391, 11666.41012224, 11744.01269665,\n",
              "       11378.72602981, 11458.82259649, 11302.1209645 , 11482.22568651,\n",
              "       11515.04443069, 11657.00393423, 11678.37325542, 11964.20867246,\n",
              "       11427.70260497, 10712.92064607, 10563.89693862, 10042.85485437,\n",
              "       10207.60500296, 10381.77610693, 10043.19644129, 10268.46091575,\n",
              "       10341.01598385, 10380.53959723, 10436.36540836, 10313.06857949,\n",
              "       10680.29756117, 10829.5053072 , 11033.38352648, 10937.1112591 ,\n",
              "       10933.9311624 , 11048.87927816, 10852.91013894, 10526.2028872 ,\n",
              "       10531.16456263, 10260.03301241, 10672.95680806, 10729.06960742,\n",
              "       10741.47646752, 10752.34544975, 10863.06572391, 10764.28437072,\n",
              "       10741.5795495 , 10626.6009565 , 10567.33019523, 10555.02867878,\n",
              "       10660.61118264, 10756.40458492, 10589.62639353, 10645.75478678,\n",
              "       10897.59543151, 11052.39508367, 11360.85271687, 11334.02674203,\n",
              "       11666.21170032, 11443.73279182, 11395.54736637, 11504.54900671,\n",
              "       11355.16043945, 11358.70637963, 11471.00254779, 11776.59299733,\n",
              "       11936.36291334, 13102.93446155, 13140.66928406, 12933.82356549,\n",
              "       13081.67255949, 13008.45325775, 13033.52427008, 13721.28222485,\n",
              "       13282.26034792, 13467.73178281, 13573.71050315, 13891.21683316,\n",
              "       13730.19731094, 13633.69821689, 13832.93840977, 14163.9768155 ,\n",
              "       15424.52767669, 15540.59659081, 14783.98167853, 15500.33425474,\n",
              "       15283.78013873, 15374.04438576, 15820.49524108, 16253.31027194,\n",
              "       16347.04492035, 15991.8330244 , 15918.08012811, 16752.00298996,\n",
              "       17593.48641493, 17834.63653371, 17954.8580091 , 18612.87067218,\n",
              "       18591.85660475, 18629.99553726, 18469.20046948, 19045.73646565,\n",
              "       18746.9348067 , 17187.40627633, 17023.96140009, 17814.78027844,\n",
              "       18114.41434928, 19382.36058587, 18980.97745012, 19184.89784774,\n",
              "       19464.53170456, 18813.12476029, 19045.0202726 , 19113.93339509,\n",
              "       19107.59979531, 18682.45783321, 18543.00704922, 18359.47660034,\n",
              "       18137.31937461, 18882.26017106, 19060.27690128, 19251.22400471,\n",
              "       19443.47635283, 21310.65626223, 22895.97623755, 23008.77625674,\n",
              "       23890.82264887, 23537.36989089, 23177.27099799, 23433.98075814,\n",
              "       23224.45413785, 23623.88553323, 24581.00617127, 26381.29623292,\n",
              "       26389.29026494, 26718.0294634 , 26975.72956452, 28768.83620753,\n",
              "       29111.52156712, 29333.60512062, 32154.16736327, 33002.53642704,\n",
              "       31431.61227972, 34433.60651384, 36275.75634767, 39713.50785672,\n",
              "       40519.44859753, 40258.92398866, 38709.76537488, 34409.64237522,\n",
              "       34214.61026205, 37017.00750345, 38435.86351466, 36751.58497369,\n",
              "       36016.77960594, 36375.81137926, 36346.60950223, 36577.51964639,\n",
              "       35004.53262688, 30606.18267565, 33368.36593189, 32070.0974252 ,\n",
              "       32285.72613244, 32500.25596269, 32324.55565073, 30534.99937302,\n",
              "       33408.21833739, 34842.55739312, 34622.37323153, 33087.36986452,\n",
              "       33613.32076431, 35632.90195152, 37397.42636409, 37256.25211087,\n",
              "       37851.59659008, 40302.79979284, 38461.6814033 , 44716.68546906,\n",
              "       46674.85168811, 45237.47568925, 47500.8975242 , 47884.1828623 ,\n",
              "       47005.1906489 , 49151.16757632, 48125.99219541, 48840.41447458,\n",
              "       52165.30255522, 51728.50879673, 55719.2043617 , 54801.64864399,\n",
              "       57128.64260647, 54181.91464919, 48172.87747693, 48745.43298434,\n",
              "       48291.41208335, 45752.11491941, 46642.60607658, 45092.8065726 ,\n",
              "       49248.91401331, 47900.77687833, 50811.85517444, 48259.48707666,\n",
              "       49149.73082884, 48879.15190416, 50594.69857451, 51503.25813218,\n",
              "       54458.03781142, 56915.17393505, 57636.75796197, 57306.16626299,\n",
              "       60743.04182491, 60197.9019918 , 56300.33410863, 56639.78394967,\n",
              "       58567.28378106, 57983.09474357, 58451.73146595, 58593.60245406,\n",
              "       57796.46737122, 54329.35863463, 54794.29771371, 52787.74552575,\n",
              "       52173.86798025, 54483.0457323 , 56234.356105  , 55343.92581533,\n",
              "       57627.6792491 , 58734.47543372, 58724.66451663, 58984.61292993,\n",
              "       58821.62699444, 57517.79877314, 58177.40276373, 58843.55954021,\n",
              "       58040.18760188, 56508.94286388, 57880.90568386, 58171.9090187 ,\n",
              "       59295.95004401, 59822.90167743, 59853.19724227, 63223.88439079,\n",
              "       62926.5571759 , 63346.78903511, 61965.7825981 , 60574.44472823,\n",
              "       56850.83016569, 56224.10158771, 56608.76974839, 54144.42747606,\n",
              "       51965.05955941, 50669.14438218, 50733.76950364, 48542.95220298,\n",
              "       53558.70784462, 55123.86198142, 54591.51532554, 53260.29534115,\n",
              "       57302.64642408, 57677.9752219 , 56427.04312502, 57255.30683756,\n",
              "       53658.84312082])"
            ]
          },
          "metadata": {
            "tags": []
          },
          "execution_count": 527
        }
      ]
    },
    {
      "cell_type": "code",
      "metadata": {
        "colab": {
          "base_uri": "https://localhost:8080/"
        },
        "id": "v4XzFQGwG4yT",
        "outputId": "8e126734-5ed5-42b7-e2d4-14131aaca69f"
      },
      "source": [
        "tf.keras.metrics.mean_absolute_error(y_test[WINDOW_SIZE:-(len(y_test) % HORIZON)-1], # account for window sizes/cutoff\n",
        "                                     tf.reduce_mean(model_2_preds, axis=1))"
      ],
      "execution_count": 526,
      "outputs": [
        {
          "output_type": "execute_result",
          "data": {
            "text/plain": [
              "<tf.Tensor: shape=(), dtype=float32, numpy=1481.0415>"
            ]
          },
          "metadata": {
            "tags": []
          },
          "execution_count": 526
        }
      ]
    },
    {
      "cell_type": "code",
      "metadata": {
        "id": "dISj95gMIpCp"
      },
      "source": [
        ""
      ],
      "execution_count": null,
      "outputs": []
    },
    {
      "cell_type": "code",
      "metadata": {
        "colab": {
          "base_uri": "https://localhost:8080/"
        },
        "id": "UvQF5dL4H6dx",
        "outputId": "96c9387f-01eb-4a87-fc29-791c9adb86bc"
      },
      "source": [
        "len(y_test[WINDOW_SIZE:-(len(y_test) % HORIZON)-1])"
      ],
      "execution_count": 510,
      "outputs": [
        {
          "output_type": "execute_result",
          "data": {
            "text/plain": [
              "405"
            ]
          },
          "metadata": {
            "tags": []
          },
          "execution_count": 510
        }
      ]
    },
    {
      "cell_type": "code",
      "metadata": {
        "colab": {
          "base_uri": "https://localhost:8080/"
        },
        "id": "pZluoKnbISGz",
        "outputId": "15183001-9c08-4f6c-fb93-334b6e92af66"
      },
      "source": [
        "len(y_test) % HORIZON"
      ],
      "execution_count": 508,
      "outputs": [
        {
          "output_type": "execute_result",
          "data": {
            "text/plain": [
              "12"
            ]
          },
          "metadata": {
            "tags": []
          },
          "execution_count": 508
        }
      ]
    },
    {
      "cell_type": "code",
      "metadata": {
        "colab": {
          "base_uri": "https://localhost:8080/"
        },
        "id": "xMz9mC8dHoFA",
        "outputId": "2086b944-008d-41ec-f5a2-905533278e71"
      },
      "source": [
        "len(y_test) % 14"
      ],
      "execution_count": 499,
      "outputs": [
        {
          "output_type": "execute_result",
          "data": {
            "text/plain": [
              "12"
            ]
          },
          "metadata": {
            "tags": []
          },
          "execution_count": 499
        }
      ]
    },
    {
      "cell_type": "code",
      "metadata": {
        "colab": {
          "base_uri": "https://localhost:8080/"
        },
        "id": "84Cwh1kVHVtv",
        "outputId": "c81dc26a-3868-4dc6-dfd3-d162916b7f13"
      },
      "source": [
        "len(y_test)/14"
      ],
      "execution_count": 497,
      "outputs": [
        {
          "output_type": "execute_result",
          "data": {
            "text/plain": [
              "39.857142857142854"
            ]
          },
          "metadata": {
            "tags": []
          },
          "execution_count": 497
        }
      ]
    },
    {
      "cell_type": "markdown",
      "metadata": {
        "id": "Sls7mUaq9lMl"
      },
      "source": [
        "### Model 3: Dense (1 horizon, 140 window)\n",
        "\n",
        "* -> How does a larger window effect a smaller horizon?\n",
        "* -> Model 1 looked at predicting horizon=1 with window=140\n",
        "* -> Model 2: horizon=14, window=140\n",
        "* -> Model 3: horizon=1, window=140\n",
        "* -> Compare them all..."
      ]
    },
    {
      "cell_type": "code",
      "metadata": {
        "colab": {
          "base_uri": "https://localhost:8080/"
        },
        "id": "8PtmayTM98Mb",
        "outputId": "c3649c29-6968-4c34-eb2f-bfd7a5cb4f42"
      },
      "source": [
        "HORIZON = 1\n",
        "WINDOW_SIZE = 140\n",
        "\n",
        "train_windows, train_labels = make_windows(y_train, window_size=WINDOW_SIZE, horizon=HORIZON)\n",
        "test_windows, test_labels = make_windows(y_test, window_size=WINDOW_SIZE, horizon=HORIZON)\n",
        "train_windows[0], train_labels[0]"
      ],
      "execution_count": 395,
      "outputs": [
        {
          "output_type": "execute_result",
          "data": {
            "text/plain": [
              "(array([ 123.65499,  125.455  ,  108.58483,  118.67466,  121.33866,\n",
              "         120.65533,  121.795  ,  123.033  ,  124.049  ,  125.96116,\n",
              "         125.27966,  125.9275 ,  126.38333,  135.24199,  133.20333,\n",
              "         142.76333,  137.92333,  142.95166,  152.55183,  160.33883,\n",
              "         164.31499,  177.63333,  188.29716,  200.70166,  180.355  ,\n",
              "         175.03166,  177.6965 ,  187.15983,  192.75666,  197.4    ,\n",
              "         196.02499,  198.04883,  198.93233,  200.543  ,  210.3075 ,\n",
              "         225.02   ,  248.25333,  262.32666,  294.48699,  331.10325,\n",
              "         285.8875 ,  304.97974,  338.137  ,  357.48   ,  402.954  ,\n",
              "         409.10375,  420.21649,  437.29725,  510.6025 ,  693.65   ,\n",
              "         531.54249,  574.71599,  681.33   ,  774.18   ,  746.19374,\n",
              "         768.8475 ,  789.36475,  893.1815 ,  934.355  , 1068.363  ,\n",
              "        1154.92593, 1099.51926, 1019.78966, 1028.845  , 1071.2848 ,\n",
              "        1139.33083, 1004.61633,  759.43041,  689.81   ,  841.83966,\n",
              "         916.77599,  967.42866,  866.29003,  911.23204,  889.81946,\n",
              "         848.9975 ,  868.95316,  653.80483,  654.06266,  553.69166,\n",
              "         693.05883,  649.38965,  595.95883,  647.68316,  671.58116,\n",
              "         659.84333,  702.00083,  758.01016,  734.01166,  717.92623,\n",
              "         752.82022,  744.17249,  768.40783,  769.09849,  804.02719,\n",
              "         813.31748,  871.11583,  970.65083,  962.46447,  855.75933,\n",
              "         860.84166,  847.5325 ,  892.26115,  916.69666,  873.27168,\n",
              "         863.69888,  853.25666,  874.07416,  842.19173,  834.86666,\n",
              "         838.42916,  881.87583,  873.28916,  874.13266,  864.56116,\n",
              "         838.14997,  834.57416,  858.12641,  887.08337,  830.53133,\n",
              "         832.89496,  832.87399,  841.48914,  847.36383,  854.7225 ,\n",
              "         856.03366,  847.70697,  844.28836,  802.75333,  748.43559,\n",
              "         692.66914,  668.86463,  700.44843,  694.3125 ,  665.7975 ,\n",
              "         645.615  ,  578.4125 ,  641.91   ,  656.2725 ,  611.04499]),\n",
              " array([634.99]))"
            ]
          },
          "metadata": {
            "tags": []
          },
          "execution_count": 395
        }
      ]
    },
    {
      "cell_type": "code",
      "metadata": {
        "colab": {
          "base_uri": "https://localhost:8080/"
        },
        "id": "hxHh7xS2-CoH",
        "outputId": "4a2c4873-f40a-4ab4-f7da-637cb092a3a7"
      },
      "source": [
        "# Build model\n",
        "model_3 = tf.keras.Sequential([\n",
        "  layers.Dense(128, activation=\"relu\"),\n",
        "  layers.Dense(1)\n",
        "])\n",
        "\n",
        "model_3.compile(loss=\"mae\",\n",
        "                optimizer=tf.keras.optimizers.Adam())\n",
        "\n",
        "model_3.fit(train_windows,\n",
        "            train_labels,\n",
        "            epochs=10,\n",
        "            validation_data=(test_windows, test_labels))"
      ],
      "execution_count": 414,
      "outputs": [
        {
          "output_type": "stream",
          "text": [
            "Epoch 1/10\n",
            "66/66 [==============================] - 1s 4ms/step - loss: 1544.6417 - val_loss: 2565.3826\n",
            "Epoch 2/10\n",
            "66/66 [==============================] - 0s 2ms/step - loss: 395.5449 - val_loss: 2548.2158\n",
            "Epoch 3/10\n",
            "66/66 [==============================] - 0s 2ms/step - loss: 384.8590 - val_loss: 1579.2136\n",
            "Epoch 4/10\n",
            "66/66 [==============================] - 0s 2ms/step - loss: 428.6699 - val_loss: 1769.8199\n",
            "Epoch 5/10\n",
            "66/66 [==============================] - 0s 2ms/step - loss: 293.0366 - val_loss: 1541.7451\n",
            "Epoch 6/10\n",
            "66/66 [==============================] - 0s 2ms/step - loss: 295.3796 - val_loss: 2311.8735\n",
            "Epoch 7/10\n",
            "66/66 [==============================] - 0s 3ms/step - loss: 302.5395 - val_loss: 1676.8278\n",
            "Epoch 8/10\n",
            "66/66 [==============================] - 0s 2ms/step - loss: 297.3793 - val_loss: 2011.1776\n",
            "Epoch 9/10\n",
            "66/66 [==============================] - 0s 2ms/step - loss: 293.3749 - val_loss: 1369.4457\n",
            "Epoch 10/10\n",
            "66/66 [==============================] - 0s 2ms/step - loss: 287.0465 - val_loss: 1358.3279\n"
          ],
          "name": "stdout"
        },
        {
          "output_type": "execute_result",
          "data": {
            "text/plain": [
              "<tensorflow.python.keras.callbacks.History at 0x7f1b2b920c50>"
            ]
          },
          "metadata": {
            "tags": []
          },
          "execution_count": 414
        }
      ]
    },
    {
      "cell_type": "code",
      "metadata": {
        "colab": {
          "base_uri": "https://localhost:8080/"
        },
        "id": "Pd-8pbfh-DDI",
        "outputId": "1f474083-3d47-4ee8-df1a-796d239d63b1"
      },
      "source": [
        "model_3.evaluate(test_windows, test_labels)"
      ],
      "execution_count": 397,
      "outputs": [
        {
          "output_type": "stream",
          "text": [
            "14/14 [==============================] - 0s 1ms/step - loss: 1068.2009\n"
          ],
          "name": "stdout"
        },
        {
          "output_type": "execute_result",
          "data": {
            "text/plain": [
              "1068.200927734375"
            ]
          },
          "metadata": {
            "tags": []
          },
          "execution_count": 397
        }
      ]
    },
    {
      "cell_type": "code",
      "metadata": {
        "id": "f0BHx_j2-5yz"
      },
      "source": [
        "model_3_preds = model_3.predict(test_windows)"
      ],
      "execution_count": 400,
      "outputs": []
    },
    {
      "cell_type": "code",
      "metadata": {
        "colab": {
          "base_uri": "https://localhost:8080/"
        },
        "id": "P9VQqenW-5to",
        "outputId": "913ebf08-c1ef-4b7c-faea-e511f33f0196"
      },
      "source": [
        "model_3_results = evaluate_preds(y_true=test_labels,\n",
        "                                 y_pred=model_3_preds,\n",
        "                                 use_window=False)\n",
        "model_3_results"
      ],
      "execution_count": 411,
      "outputs": [
        {
          "output_type": "execute_result",
          "data": {
            "text/plain": [
              "{'mae': 1068.2013, 'mape': 3.9055905, 'mse': 3570920.8, 'smape': 3.8755755}"
            ]
          },
          "metadata": {
            "tags": []
          },
          "execution_count": 411
        }
      ]
    },
    {
      "cell_type": "code",
      "metadata": {
        "colab": {
          "base_uri": "https://localhost:8080/"
        },
        "id": "t5FHjtgvAueF",
        "outputId": "735aeda7-3dcf-4e69-9b0a-993976f5c9ca"
      },
      "source": [
        "model_1_results, model_2_results, model_3_results"
      ],
      "execution_count": 412,
      "outputs": [
        {
          "output_type": "execute_result",
          "data": {
            "text/plain": [
              "({'mae': 1043.0605, 'mape': 5.0917964, 'mse': 3113610.0, 'smape': 4.911267},\n",
              " {'mae': 2685.0935, 'mape': 10.624958, 'mse': 18249514.0, 'smape': 11.210111},\n",
              " {'mae': 1068.2013, 'mape': 3.9055905, 'mse': 3570920.8, 'smape': 3.8755755})"
            ]
          },
          "metadata": {
            "tags": []
          },
          "execution_count": 412
        }
      ]
    },
    {
      "cell_type": "markdown",
      "metadata": {
        "id": "UW9oxH47EK-6"
      },
      "source": [
        "## TODO: Make future forecasts...\n",
        "\n",
        "* TODO\n",
        "  * Make forecasting better (how can I forecast on an arbitrary amount of steps)\n",
        "  * Create evaluation method for larger windows/horizons\n",
        "  * Build more modelling experiments\n",
        "  * Create multivariate time series\n",
        "  * Create TensorFlow windowing function\n",
        "\n",
        "* Forecasts can't be compared to anything... because they're a forecast... derp"
      ]
    },
    {
      "cell_type": "code",
      "metadata": {
        "colab": {
          "base_uri": "https://localhost:8080/"
        },
        "id": "uWlh2P7pBQpX",
        "outputId": "d9635583-9180-41e6-9011-baf6e303fdbc"
      },
      "source": [
        "WINDOW_SIZE"
      ],
      "execution_count": 415,
      "outputs": [
        {
          "output_type": "execute_result",
          "data": {
            "text/plain": [
              "140"
            ]
          },
          "metadata": {
            "tags": []
          },
          "execution_count": 415
        }
      ]
    },
    {
      "cell_type": "code",
      "metadata": {
        "id": "0Hu1eH59BcuN"
      },
      "source": [
        "# TODO: Create make forecast function with:\n",
        "# Can forecast on any model\n",
        "# Can forecast on any time series (gets formatted to be same as the model's requirements)"
      ],
      "execution_count": null,
      "outputs": []
    },
    {
      "cell_type": "code",
      "metadata": {
        "colab": {
          "base_uri": "https://localhost:8080/"
        },
        "id": "6WYGil3TBTEA",
        "outputId": "ec25bc72-77be-4b06-c929-e180f6a450ce"
      },
      "source": [
        "# Make forecast with one model... \n",
        "model_3_forecast = model_3.predict(tf.expand_dims(y_test[-model_3.input_shape[-1]:], axis=0))\n",
        "model_3_forecast"
      ],
      "execution_count": 450,
      "outputs": [
        {
          "output_type": "execute_result",
          "data": {
            "text/plain": [
              "array([[51037.02]], dtype=float32)"
            ]
          },
          "metadata": {
            "tags": []
          },
          "execution_count": 450
        }
      ]
    },
    {
      "cell_type": "code",
      "metadata": {
        "id": "soQoulDxEhAp"
      },
      "source": [
        "def make_forecast(model, input_data):\n",
        "  \"\"\"\n",
        "  Uses model to make forecasts on input_data.\n",
        "  \"\"\"\n",
        "  forecast = model.predict(tf.expand_dims(input_data[-model.input_shape[-1]:], axis=0)) # make future predictions on last timestep(s) of input_data\n",
        "  return tf.squeeze(forecast).numpy()"
      ],
      "execution_count": 451,
      "outputs": []
    },
    {
      "cell_type": "code",
      "metadata": {
        "colab": {
          "base_uri": "https://localhost:8080/"
        },
        "id": "cU0-6mgXFT3F",
        "outputId": "8c6216a3-480f-4212-ec28-eb40595c4a06"
      },
      "source": [
        "model_2_forecast = make_forecast(model_2, y_test)\n",
        "model_2_forecast"
      ],
      "execution_count": 454,
      "outputs": [
        {
          "output_type": "execute_result",
          "data": {
            "text/plain": [
              "array([53904.688, 43581.746, 53670.637, 51078.867, 45989.836, 47447.473,\n",
              "       44555.715, 46859.6  , 54127.32 , 54640.65 , 52999.043, 52226.145,\n",
              "       46463.242, 45323.86 ], dtype=float32)"
            ]
          },
          "metadata": {
            "tags": []
          },
          "execution_count": 454
        }
      ]
    },
    {
      "cell_type": "code",
      "metadata": {
        "colab": {
          "base_uri": "https://localhost:8080/"
        },
        "id": "6cIibo-CFcxA",
        "outputId": "e3167e29-944a-4f7d-b28a-3e7812a7d7eb"
      },
      "source": [
        "model_3_forecast = make_forecast(model_3, y_test)\n",
        "model_3_forecast"
      ],
      "execution_count": 457,
      "outputs": [
        {
          "output_type": "execute_result",
          "data": {
            "text/plain": [
              "51037.02"
            ]
          },
          "metadata": {
            "tags": []
          },
          "execution_count": 457
        }
      ]
    },
    {
      "cell_type": "markdown",
      "metadata": {
        "id": "QuaY0cOaCHfr"
      },
      "source": [
        "### TODO: Plot forecasts\n",
        "\n",
        "* Need: \n",
        "  * horizon # of dates in future\n",
        "  * forecast"
      ]
    },
    {
      "cell_type": "code",
      "metadata": {
        "colab": {
          "base_uri": "https://localhost:8080/"
        },
        "id": "6676Sl-cAFn5",
        "outputId": "c8cfc1d7-a4d7-4930-a2de-40e4b84c6640"
      },
      "source": [
        "# Last timestep of timesteps (currently in np.datetime64 format)\n",
        "X_test[-1]"
      ],
      "execution_count": 443,
      "outputs": [
        {
          "output_type": "execute_result",
          "data": {
            "text/plain": [
              "numpy.datetime64('2021-05-18T00:00:00.000000000')"
            ]
          },
          "metadata": {
            "tags": []
          },
          "execution_count": 443
        }
      ]
    },
    {
      "cell_type": "code",
      "metadata": {
        "id": "i4iNNliSCbU-"
      },
      "source": [
        "def get_future_dates(start_date, horizon=1, offset=1):\n",
        "  \"\"\"\n",
        "  Returns array of datetime values from ranging from start_date to start_date+horizon.\n",
        "\n",
        "  start_date: date to start range (np.datetime64)\n",
        "  horizon: number of day to add onto start date for range (int)\n",
        "  offset: if offset=1 (default), original date is not included, if offset=0, original date is included\n",
        "  \"\"\"\n",
        "  return np.arange(start_date + np.timedelta64(offset, \"D\"), start_date + np.timedelta64(horizon+1, \"D\"), dtype=\"datetime64[D]\")"
      ],
      "execution_count": 444,
      "outputs": []
    },
    {
      "cell_type": "code",
      "metadata": {
        "id": "252bhVD7C5NZ"
      },
      "source": [
        "next_time_steps = get_future_dates(start_date=X_test[-1], horizon=HORIZON)"
      ],
      "execution_count": 543,
      "outputs": []
    },
    {
      "cell_type": "code",
      "metadata": {
        "colab": {
          "base_uri": "https://localhost:8080/"
        },
        "id": "gtOqAgSPyjtn",
        "outputId": "e54d6fcf-ac1e-4152-b646-20778f81393d"
      },
      "source": [
        "# Example of getting next two weeks\n",
        "next_two_weeks = get_future_dates(start_date=X_test[-1], horizon=14)\n",
        "next_two_weeks"
      ],
      "execution_count": 544,
      "outputs": [
        {
          "output_type": "execute_result",
          "data": {
            "text/plain": [
              "array(['2021-05-19', '2021-05-20', '2021-05-21', '2021-05-22',\n",
              "       '2021-05-23', '2021-05-24', '2021-05-25', '2021-05-26',\n",
              "       '2021-05-27', '2021-05-28', '2021-05-29', '2021-05-30',\n",
              "       '2021-05-31', '2021-06-01'], dtype='datetime64[D]')"
            ]
          },
          "metadata": {
            "tags": []
          },
          "execution_count": 544
        }
      ]
    },
    {
      "cell_type": "code",
      "metadata": {
        "id": "G_5UX08aCThS"
      },
      "source": [
        "model_2_forecast = np.insert(model_2_forecast, 0, y_test[-1]) \n",
        "future_dates = np.insert(next_two_weeks, 0, X_test[-1])"
      ],
      "execution_count": 545,
      "outputs": []
    },
    {
      "cell_type": "code",
      "metadata": {
        "colab": {
          "base_uri": "https://localhost:8080/"
        },
        "id": "iBj7y088EAYc",
        "outputId": "b56e0a2e-76f6-4189-f678-559a602bfe79"
      },
      "source": [
        "model_2_forecast, future_dates"
      ],
      "execution_count": 546,
      "outputs": [
        {
          "output_type": "execute_result",
          "data": {
            "text/plain": [
              "(array([43144.473, 53904.688, 43581.746, 53670.637, 51078.867, 45989.836,\n",
              "        47447.473, 44555.715, 46859.6  , 54127.32 , 54640.65 , 52999.043,\n",
              "        52226.145, 46463.242, 45323.86 ], dtype=float32),\n",
              " array(['2021-05-18', '2021-05-19', '2021-05-20', '2021-05-21',\n",
              "        '2021-05-22', '2021-05-23', '2021-05-24', '2021-05-25',\n",
              "        '2021-05-26', '2021-05-27', '2021-05-28', '2021-05-29',\n",
              "        '2021-05-30', '2021-05-31', '2021-06-01'], dtype='datetime64[D]'))"
            ]
          },
          "metadata": {
            "tags": []
          },
          "execution_count": 546
        }
      ]
    },
    {
      "cell_type": "markdown",
      "metadata": {
        "id": "V4jPtORZEgs9"
      },
      "source": [
        "TODO: Fix the below graph to have model_2_preds... continued into model 2 forecast, want to have the windowed forecast plottable & then predictions being able to be made multiple steps into the future"
      ]
    },
    {
      "cell_type": "code",
      "metadata": {
        "colab": {
          "base_uri": "https://localhost:8080/"
        },
        "id": "GyaSsy8bJw5-",
        "outputId": "3debee8b-a82b-4a0f-e105-55f6379a4349"
      },
      "source": [
        "tf.keras.metrics.mean_absolute_error(y_test[WINDOW_SIZE:-(len(y_test) % HORIZON)-1], # account for window sizes/cutoff\n",
        "                                     tf.reduce_mean(model_2_preds, axis=1))"
      ],
      "execution_count": 528,
      "outputs": [
        {
          "output_type": "execute_result",
          "data": {
            "text/plain": [
              "<tf.Tensor: shape=(), dtype=float32, numpy=1481.0415>"
            ]
          },
          "metadata": {
            "tags": []
          },
          "execution_count": 528
        }
      ]
    },
    {
      "cell_type": "code",
      "metadata": {
        "colab": {
          "base_uri": "https://localhost:8080/"
        },
        "id": "xTYDnN2WGhu9",
        "outputId": "90215aa3-9fb1-4821-b91d-508c5cdcf3a1"
      },
      "source": [
        "model_2_results"
      ],
      "execution_count": 529,
      "outputs": [
        {
          "output_type": "execute_result",
          "data": {
            "text/plain": [
              "{'mae': 2529.3965, 'mape': 9.727565, 'mse': 16825896.0, 'smape': 10.112202}"
            ]
          },
          "metadata": {
            "tags": []
          },
          "execution_count": 529
        }
      ]
    },
    {
      "cell_type": "code",
      "metadata": {
        "colab": {
          "base_uri": "https://localhost:8080/"
        },
        "id": "Yw-e5fkcMOAl",
        "outputId": "5341bffb-fce2-4ecf-fb8e-8a98d66edcbc"
      },
      "source": [
        "y_test[140:140+14], test_labels[0]"
      ],
      "execution_count": 551,
      "outputs": [
        {
          "output_type": "execute_result",
          "data": {
            "text/plain": [
              "(array([6721.49539238, 6682.7800492 , 6229.48834283, 5922.48983509,\n",
              "        6483.73944553, 6446.42134684, 6537.3364615 , 6850.55871169,\n",
              "        6776.37009357, 6855.93326446, 6805.3622869 , 7278.24396977,\n",
              "        7175.66747656, 7367.29339845]),\n",
              " array([6721.49539238, 6682.7800492 , 6229.48834283, 5922.48983509,\n",
              "        6483.73944553, 6446.42134684, 6537.3364615 , 6850.55871169,\n",
              "        6776.37009357, 6855.93326446, 6805.3622869 , 7278.24396977,\n",
              "        7175.66747656, 7367.29339845]))"
            ]
          },
          "metadata": {
            "tags": []
          },
          "execution_count": 551
        }
      ]
    },
    {
      "cell_type": "code",
      "metadata": {
        "colab": {
          "base_uri": "https://localhost:8080/"
        },
        "id": "QNC3HzAGLM1z",
        "outputId": "b3af51ad-69e9-4107-9b2c-cdcf54656cce"
      },
      "source": [
        "tf.reduce_mean(model_2_preds[-100:], axis=1)"
      ],
      "execution_count": 549,
      "outputs": [
        {
          "output_type": "execute_result",
          "data": {
            "text/plain": [
              "<tf.Tensor: shape=(100,), dtype=float32, numpy=\n",
              "array([36701.473, 36144.57 , 35764.348, 34901.656, 34843.71 , 35094.81 ,\n",
              "       35132.727, 34703.82 , 34822.19 , 34917.02 , 35235.418, 35918.348,\n",
              "       36537.855, 36705.363, 37077.176, 38421.293, 39489.344, 40080.098,\n",
              "       40876.883, 42075.066, 43110.34 , 44393.844, 45216.777, 45956.57 ,\n",
              "       46855.19 , 48068.395, 49270.723, 50073.617, 51104.812, 51841.305,\n",
              "       51963.098, 52384.965, 52220.   , 51455.895, 51411.168, 51489.188,\n",
              "       51131.52 , 50980.19 , 50987.875, 51007.54 , 51163.258, 51886.066,\n",
              "       52521.082, 52356.008, 53245.973, 54041.48 , 55264.96 , 55964.742,\n",
              "       56759.926, 57594.387, 58877.68 , 59014.035, 59824.086, 59583.305,\n",
              "       59824.34 , 60218.43 , 59945.965, 59501.598, 58837.625, 58398.35 ,\n",
              "       57354.477, 57350.035, 57393.535, 56191.32 , 56402.09 , 56915.77 ,\n",
              "       56231.77 , 56628.395, 56597.395, 56858.844, 57405.73 , 58069.418,\n",
              "       57892.56 , 57875.32 , 57569.188, 58106.938, 58683.445, 59460.043,\n",
              "       60356.37 , 61224.145, 61700.85 , 62376.965, 63341.246, 63533.957,\n",
              "       63728.312, 63351.645, 63100.29 , 62591.418, 61397.555, 60589.914,\n",
              "       60047.062, 58441.508, 58210.43 , 58898.125, 57963.316, 57164.215,\n",
              "       57364.543, 56864.16 , 56845.277, 56932.164], dtype=float32)>"
            ]
          },
          "metadata": {
            "tags": []
          },
          "execution_count": 549
        }
      ]
    },
    {
      "cell_type": "code",
      "metadata": {
        "colab": {
          "base_uri": "https://localhost:8080/"
        },
        "id": "ShxXEbrGNQ1Q",
        "outputId": "5a3e10e0-25d6-469f-d809-4be40346e9f4"
      },
      "source": [
        "100-len(y_test) % HORIZON - 1"
      ],
      "execution_count": 556,
      "outputs": [
        {
          "output_type": "execute_result",
          "data": {
            "text/plain": [
              "87"
            ]
          },
          "metadata": {
            "tags": []
          },
          "execution_count": 556
        }
      ]
    },
    {
      "cell_type": "code",
      "metadata": {
        "colab": {
          "base_uri": "https://localhost:8080/"
        },
        "id": "3t7X4qdnNd49",
        "outputId": "be879017-f34c-4879-c30b-da8c00d5f0fb"
      },
      "source": [
        "100+((len(y_test) % HORIZON) - 1)"
      ],
      "execution_count": 564,
      "outputs": [
        {
          "output_type": "execute_result",
          "data": {
            "text/plain": [
              "111"
            ]
          },
          "metadata": {
            "tags": []
          },
          "execution_count": 564
        }
      ]
    },
    {
      "cell_type": "code",
      "metadata": {
        "colab": {
          "base_uri": "https://localhost:8080/"
        },
        "id": "sd7o-YLKNsyU",
        "outputId": "a1fd41b8-87c1-4753-a9ff-53f4117de4ef"
      },
      "source": [
        "X_test[-111]"
      ],
      "execution_count": 565,
      "outputs": [
        {
          "output_type": "execute_result",
          "data": {
            "text/plain": [
              "numpy.datetime64('2021-01-28T00:00:00.000000000')"
            ]
          },
          "metadata": {
            "tags": []
          },
          "execution_count": 565
        }
      ]
    },
    {
      "cell_type": "code",
      "metadata": {
        "colab": {
          "base_uri": "https://localhost:8080/"
        },
        "id": "2l1nbCpMN29T",
        "outputId": "77b16be9-5635-42e4-d2da-42588a3ed7b5"
      },
      "source": [
        "# Does indexing on this account for the lagging window???\n",
        "(100+(len(y_test) % HORIZON) - 1)"
      ],
      "execution_count": 566,
      "outputs": [
        {
          "output_type": "execute_result",
          "data": {
            "text/plain": [
              "111"
            ]
          },
          "metadata": {
            "tags": []
          },
          "execution_count": 566
        }
      ]
    },
    {
      "cell_type": "code",
      "metadata": {
        "colab": {
          "base_uri": "https://localhost:8080/",
          "height": 447
        },
        "id": "B_7z2XE5N9mj",
        "outputId": "299990ef-0b00-4190-dffd-99c330a36334"
      },
      "source": [
        "## TODO: Note the non-adjusted plot here...\n",
        "# Plot forecast\n",
        "plt.figure(figsize=(10, 7))\n",
        "plt.plot(X_test[-100:], y_test[-100:], label=\"test_data\")\n",
        "# plt.plot(X_train, y_train)\n",
        "plt.plot(X_test[-100:], tf.reduce_mean(model_2_preds[-100:], axis=1), label=\"model_2_preds\")\n",
        "plt.plot(future_dates, model_2_forecast.ravel(), label=\"model_2_forecast\")\n",
        "plt.legend()\n",
        "plt.plot()"
      ],
      "execution_count": 569,
      "outputs": [
        {
          "output_type": "execute_result",
          "data": {
            "text/plain": [
              "[]"
            ]
          },
          "metadata": {
            "tags": []
          },
          "execution_count": 569
        },
        {
          "output_type": "display_data",
          "data": {
            "image/png": "[encoded data removed]",
            "text/plain": [
              "<Figure size 720x504 with 1 Axes>"
            ]
          },
          "metadata": {
            "tags": [],
            "needs_background": "light"
          }
        }
      ]
    },
    {
      "cell_type": "code",
      "metadata": {
        "colab": {
          "base_uri": "https://localhost:8080/",
          "height": 447
        },
        "id": "MqTK7pr688o2",
        "outputId": "786ba446-0e9f-4647-a00c-6bbde286097d"
      },
      "source": [
        "## TODO: Note the adjusted plot here...\n",
        "# Plot forecast\n",
        "plt.figure(figsize=(10, 7))\n",
        "plt.plot(X_test[-100:], y_test[-100:], label=\"test_data\")\n",
        "# plt.plot(X_train, y_train)\n",
        "plt.plot(X_test[-(100+HORIZON):-HORIZON], tf.reduce_mean(model_2_preds[-100:], axis=1), label=\"model_2_preds\")\n",
        "plt.plot(future_dates, model_2_forecast.ravel(), label=\"model_2_forecast\")\n",
        "plt.legend()\n",
        "plt.plot()"
      ],
      "execution_count": 571,
      "outputs": [
        {
          "output_type": "execute_result",
          "data": {
            "text/plain": [
              "[]"
            ]
          },
          "metadata": {
            "tags": []
          },
          "execution_count": 571
        },
        {
          "output_type": "display_data",
          "data": {
            "image/png": "[encoded data removed]",
            "text/plain": [
              "<Figure size 720x504 with 1 Axes>"
            ]
          },
          "metadata": {
            "tags": [],
            "needs_background": "light"
          }
        }
      ]
    },
    {
      "cell_type": "code",
      "metadata": {
        "id": "_bSQcfknCjN4"
      },
      "source": [
        ""
      ],
      "execution_count": null,
      "outputs": []
    },
    {
      "cell_type": "code",
      "metadata": {
        "id": "ZcbnNGhhL6ss"
      },
      "source": [
        ""
      ],
      "execution_count": null,
      "outputs": []
    },
    {
      "cell_type": "code",
      "metadata": {
        "id": "b4W2c9woL6jZ"
      },
      "source": [
        ""
      ],
      "execution_count": null,
      "outputs": []
    },
    {
      "cell_type": "code",
      "metadata": {
        "id": "4dfvsCORCjIi"
      },
      "source": [
        ""
      ],
      "execution_count": null,
      "outputs": []
    },
    {
      "cell_type": "markdown",
      "metadata": {
        "id": "Y82CDMWp5Wva"
      },
      "source": [
        "# TODO: Make a multivariate time series \n",
        "\n",
        "Bitcoin price + halving events...\n",
        "\n",
        "-> https://www.investopedia.com/bitcoin-halving-4843769\n",
        "\n",
        "> Vigg_1991: For me … I use sensor data for predictions and forecasting … the toughest part of a time series has been .. when doing multivariate time series … some inputs may have larger scale compared to the target .. therefore do we de-trend all the data to keep them consistent or do we keep them them the way they are … because sometimes they lose the correlation between them once they are retreaded for prediction. How would you handle that ? Or is that important for deep learning predictions?\n",
        "\n",
        "* inputs: larger scale compared to target\n",
        "* detrend all the data to keep them consistent? Or keep the same way?\n",
        "* sometimes they lose the correlation between them once they are de-trended "
      ]
    },
    {
      "cell_type": "code",
      "metadata": {
        "id": "z7XrBXMy5WQG"
      },
      "source": [
        ""
      ],
      "execution_count": null,
      "outputs": []
    },
    {
      "cell_type": "code",
      "metadata": {
        "id": "KVZ92raO5WL-"
      },
      "source": [
        ""
      ],
      "execution_count": null,
      "outputs": []
    },
    {
      "cell_type": "code",
      "metadata": {
        "id": "RSTXtKsI5WIh"
      },
      "source": [
        ""
      ],
      "execution_count": null,
      "outputs": []
    },
    {
      "cell_type": "code",
      "metadata": {
        "id": "7VCekOGZ5WFi"
      },
      "source": [
        ""
      ],
      "execution_count": null,
      "outputs": []
    },
    {
      "cell_type": "markdown",
      "metadata": {
        "id": "RyK5r-j5Y--4"
      },
      "source": [
        "## TODO: Make TensorFlow tf.data Windowed Dataset"
      ]
    },
    {
      "cell_type": "code",
      "metadata": {
        "id": "ebeKFCfSBk-b"
      },
      "source": [
        ""
      ],
      "execution_count": null,
      "outputs": []
    },
    {
      "cell_type": "code",
      "metadata": {
        "id": "2F6tqMSB5VQw"
      },
      "source": [
        ""
      ],
      "execution_count": null,
      "outputs": []
    },
    {
      "cell_type": "code",
      "metadata": {
        "id": "XAeNIp1IYzz5"
      },
      "source": [
        ""
      ],
      "execution_count": null,
      "outputs": []
    },
    {
      "cell_type": "code",
      "metadata": {
        "id": "cQFBrdoFYzp-"
      },
      "source": [
        ""
      ],
      "execution_count": null,
      "outputs": []
    },
    {
      "cell_type": "code",
      "metadata": {
        "id": "jak40o1MYznM"
      },
      "source": [
        ""
      ],
      "execution_count": null,
      "outputs": []
    },
    {
      "cell_type": "code",
      "metadata": {
        "id": "bEPwZjIASOWg"
      },
      "source": [
        "# TODO: Use entire time series to predict next step, compare to actual data \n",
        "# (e.g. revisit the prices in 1 week & see how the model goes)\n",
        "# Start date: 18 May 2021\n",
        "# End date: 25 May 2021 (revisit the updated prices here & see how wrong the model is...)"
      ],
      "execution_count": null,
      "outputs": []
    },
    {
      "cell_type": "markdown",
      "metadata": {
        "id": "fVGY8WhHBlHV"
      },
      "source": [
        "## TODO: Uncertainty estimates"
      ]
    },
    {
      "cell_type": "markdown",
      "metadata": {
        "id": "SQsz_JNwBooW"
      },
      "source": [
        "### TODO: Model X: (model with Dropout to make MC Dropout model)..."
      ]
    },
    {
      "cell_type": "code",
      "metadata": {
        "id": "-Neg2BC6Bo_F"
      },
      "source": [
        ""
      ],
      "execution_count": null,
      "outputs": []
    },
    {
      "cell_type": "code",
      "metadata": {
        "id": "_n3iKK_mz9Uu"
      },
      "source": [
        ""
      ],
      "execution_count": null,
      "outputs": []
    },
    {
      "cell_type": "markdown",
      "metadata": {
        "id": "U5VMaZ1UBpXt"
      },
      "source": [
        "# TODO: Why forecasting is BS (turkey problem)\n",
        "\n",
        "TK - inject a turkey problem piece of data into the model & see how it effects (e.g. 1 data point that's 50x of outlier)\n",
        "\n",
        "* See this video: https://youtu.be/hRwimmE2wEk\n",
        "* Open system: beware (like fortune telling), see Mark Saroufim's tweet - https://twitter.com/marksaroufim/status/1366871736604532739?s=20\n",
        "* Closed system: try it out"
      ]
    },
    {
      "cell_type": "code",
      "metadata": {
        "id": "KD50Xt36BsOk"
      },
      "source": [
        ""
      ],
      "execution_count": null,
      "outputs": []
    },
    {
      "cell_type": "code",
      "metadata": {
        "id": "kUFWcnNGB7yn"
      },
      "source": [
        ""
      ],
      "execution_count": null,
      "outputs": []
    },
    {
      "cell_type": "code",
      "metadata": {
        "id": "DgG2hk9PB7wi"
      },
      "source": [
        ""
      ],
      "execution_count": null,
      "outputs": []
    },
    {
      "cell_type": "code",
      "metadata": {
        "id": "dPWjKlk_B7tb"
      },
      "source": [
        ""
      ],
      "execution_count": null,
      "outputs": []
    },
    {
      "cell_type": "code",
      "metadata": {
        "id": "JLSwuKgzB7q_"
      },
      "source": [
        ""
      ],
      "execution_count": null,
      "outputs": []
    },
    {
      "cell_type": "markdown",
      "metadata": {
        "id": "47VA8gR3B7QP"
      },
      "source": [
        "# TODO: Exercises"
      ]
    },
    {
      "cell_type": "code",
      "metadata": {
        "id": "vSZLIopuCAJN"
      },
      "source": [
        ""
      ],
      "execution_count": null,
      "outputs": []
    },
    {
      "cell_type": "markdown",
      "metadata": {
        "id": "iiOlVRREB7No"
      },
      "source": [
        "## TODO: Extra-curriculum"
      ]
    },
    {
      "cell_type": "markdown",
      "metadata": {
        "id": "L2PgJ141B7HG"
      },
      "source": [
        ""
      ]
    }
  ]
}