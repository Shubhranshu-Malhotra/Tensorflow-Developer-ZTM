{
  "nbformat": 4,
  "nbformat_minor": 0,
  "metadata": {
    "colab": {
      "name": "00_tf_fundamentals.ipynb",
      "provenance": [],
      "collapsed_sections": [],
      "toc_visible": true,
      "authorship_tag": "ABX9TyNTMbcgnwguoIddjC3h+YiP",
      "include_colab_link": true
    },
    "kernelspec": {
      "name": "python3",
      "display_name": "Python 3"
    },
    "language_info": {
      "name": "python"
    }
  },
  "cells": [
    {
      "cell_type": "markdown",
      "metadata": {
        "id": "view-in-github",
        "colab_type": "text"
      },
      "source": [
        "<a href=\"https://colab.research.google.com/github/Shubhranshu-Malhotra/Tensorflow-Developer-ZTM/blob/main/00_tf_fundamentals.ipynb\" target=\"_parent\"><img src=\"https://colab.research.google.com/assets/colab-badge.svg\" alt=\"Open In Colab\"/></a>"
      ]
    },
    {
      "cell_type": "markdown",
      "metadata": {
        "id": "qlxchOKBcPBk"
      },
      "source": [
        "# Fundmental concepts of tensor using Tensorflow\n",
        "*  Introduction to Tensors\n",
        "*  Getting information from tensors\n",
        "*  Manipulating Tensors\n",
        "*  Tensors & NumPy\n",
        "*  Using `@tf.function`(a way to speed up regular Python functions)\n",
        "*  Using GPU with TensorFlow (and TPU)\n",
        "*  Exercises"
      ]
    },
    {
      "cell_type": "markdown",
      "metadata": {
        "id": "e3RABkXlEUIo"
      },
      "source": [
        "## Introduction to Tensors"
      ]
    },
    {
      "cell_type": "code",
      "metadata": {
        "colab": {
          "base_uri": "https://localhost:8080/",
          "height": 35
        },
        "id": "FFx5OW4HFAbt",
        "outputId": "fb8d9bfd-90fa-4504-b29a-2578a5995f7b"
      },
      "source": [
        "# Import TensorFlow\n",
        "import tensorflow as tf\n",
        "tf.__version__"
      ],
      "execution_count": 2,
      "outputs": [
        {
          "output_type": "execute_result",
          "data": {
            "application/vnd.google.colaboratory.intrinsic+json": {
              "type": "string"
            },
            "text/plain": [
              "'2.4.1'"
            ]
          },
          "metadata": {
            "tags": []
          },
          "execution_count": 2
        }
      ]
    },
    {
      "cell_type": "markdown",
      "metadata": {
        "id": "FiElrW8-FGRy"
      },
      "source": [
        "### Create tensors with `tf.constant()`"
      ]
    },
    {
      "cell_type": "code",
      "metadata": {
        "colab": {
          "base_uri": "https://localhost:8080/"
        },
        "id": "Wb6oc7mVFxj9",
        "outputId": "b666b76a-3c42-4c6c-c5af-4f0cba1ef784"
      },
      "source": [
        "# Create tensors with `tf.constant()`\n",
        "scalar = tf.constant(7)\n",
        "scalar"
      ],
      "execution_count": 3,
      "outputs": [
        {
          "output_type": "execute_result",
          "data": {
            "text/plain": [
              "<tf.Tensor: shape=(), dtype=int32, numpy=7>"
            ]
          },
          "metadata": {
            "tags": []
          },
          "execution_count": 3
        }
      ]
    },
    {
      "cell_type": "code",
      "metadata": {
        "colab": {
          "base_uri": "https://localhost:8080/"
        },
        "id": "WnNQ_INpF6Tr",
        "outputId": "80fe0c5c-cb9a-4563-91fa-77effc7817eb"
      },
      "source": [
        " # Check number of dimensions of a tensor (ndim)\n",
        " scalar.ndim"
      ],
      "execution_count": 4,
      "outputs": [
        {
          "output_type": "execute_result",
          "data": {
            "text/plain": [
              "0"
            ]
          },
          "metadata": {
            "tags": []
          },
          "execution_count": 4
        }
      ]
    },
    {
      "cell_type": "code",
      "metadata": {
        "colab": {
          "base_uri": "https://localhost:8080/"
        },
        "id": "KTN87rNpMqlb",
        "outputId": "77ae4415-2e4e-42cb-aa02-37c40f251f5f"
      },
      "source": [
        "# Create a vector\n",
        "vector = tf.constant([10,10])\n",
        "vector"
      ],
      "execution_count": 5,
      "outputs": [
        {
          "output_type": "execute_result",
          "data": {
            "text/plain": [
              "<tf.Tensor: shape=(2,), dtype=int32, numpy=array([10, 10], dtype=int32)>"
            ]
          },
          "metadata": {
            "tags": []
          },
          "execution_count": 5
        }
      ]
    },
    {
      "cell_type": "code",
      "metadata": {
        "colab": {
          "base_uri": "https://localhost:8080/"
        },
        "id": "8OT_DMYdMxcQ",
        "outputId": "f7f5eb4e-3c17-44c0-de95-92d068e26001"
      },
      "source": [
        "# Check dimensions of vector\n",
        "vector.ndim"
      ],
      "execution_count": 6,
      "outputs": [
        {
          "output_type": "execute_result",
          "data": {
            "text/plain": [
              "1"
            ]
          },
          "metadata": {
            "tags": []
          },
          "execution_count": 6
        }
      ]
    },
    {
      "cell_type": "code",
      "metadata": {
        "colab": {
          "base_uri": "https://localhost:8080/"
        },
        "id": "W8AygkayM9Ja",
        "outputId": "df06ef13-efd7-4121-d13e-d3c66ac6f45c"
      },
      "source": [
        "# Create a matrix (>1 dimensions)\n",
        "matrix = tf.constant([[7,10],\n",
        "                      [10,7]])\n",
        "matrix"
      ],
      "execution_count": 7,
      "outputs": [
        {
          "output_type": "execute_result",
          "data": {
            "text/plain": [
              "<tf.Tensor: shape=(2, 2), dtype=int32, numpy=\n",
              "array([[ 7, 10],\n",
              "       [10,  7]], dtype=int32)>"
            ]
          },
          "metadata": {
            "tags": []
          },
          "execution_count": 7
        }
      ]
    },
    {
      "cell_type": "code",
      "metadata": {
        "colab": {
          "base_uri": "https://localhost:8080/"
        },
        "id": "_S0Dlw3QNULj",
        "outputId": "732d7d32-7352-435a-c959-512504c28f44"
      },
      "source": [
        "# Check dimensions for matrix \n",
        "matrix.ndim"
      ],
      "execution_count": 9,
      "outputs": [
        {
          "output_type": "execute_result",
          "data": {
            "text/plain": [
              "2"
            ]
          },
          "metadata": {
            "tags": []
          },
          "execution_count": 9
        }
      ]
    },
    {
      "cell_type": "code",
      "metadata": {
        "colab": {
          "base_uri": "https://localhost:8080/"
        },
        "id": "XtU9VJY6NYqO",
        "outputId": "dabb8eec-e5eb-432b-9c9d-7da9356c7aaa"
      },
      "source": [
        "# Create another matrix with `dtype` specified\n",
        "another_matrix = tf.constant([[7.,10.],\n",
        "                              [10.,7.],\n",
        "                              [30.,100.]], dtype = 'float16')\n",
        "another_matrix"
      ],
      "execution_count": 14,
      "outputs": [
        {
          "output_type": "execute_result",
          "data": {
            "text/plain": [
              "<tf.Tensor: shape=(3, 2), dtype=float16, numpy=\n",
              "array([[  7.,  10.],\n",
              "       [ 10.,   7.],\n",
              "       [ 30., 100.]], dtype=float16)>"
            ]
          },
          "metadata": {
            "tags": []
          },
          "execution_count": 14
        }
      ]
    },
    {
      "cell_type": "code",
      "metadata": {
        "colab": {
          "base_uri": "https://localhost:8080/"
        },
        "id": "9xeUwin3RQyY",
        "outputId": "8c2fe652-965a-4dc4-c2ce-aa45c171a99c"
      },
      "source": [
        "another_matrix.ndim"
      ],
      "execution_count": 15,
      "outputs": [
        {
          "output_type": "execute_result",
          "data": {
            "text/plain": [
              "2"
            ]
          },
          "metadata": {
            "tags": []
          },
          "execution_count": 15
        }
      ]
    },
    {
      "cell_type": "code",
      "metadata": {
        "colab": {
          "base_uri": "https://localhost:8080/"
        },
        "id": "UBNWVgqXRkfS",
        "outputId": "0eae483e-62cf-486e-c224-881a5300dbc2"
      },
      "source": [
        "# Create a tensor\n",
        "tensor = tf.constant([[[1,2,3],\n",
        "                       [4,5,6]],\n",
        "                      [[7,8,9],\n",
        "                       [10,11,12]],\n",
        "                      [[13,14,15],\n",
        "                       [16,17,18]]])\n",
        "tensor"
      ],
      "execution_count": 18,
      "outputs": [
        {
          "output_type": "execute_result",
          "data": {
            "text/plain": [
              "<tf.Tensor: shape=(3, 2, 3), dtype=int32, numpy=\n",
              "array([[[ 1,  2,  3],\n",
              "        [ 4,  5,  6]],\n",
              "\n",
              "       [[ 7,  8,  9],\n",
              "        [10, 11, 12]],\n",
              "\n",
              "       [[13, 14, 15],\n",
              "        [16, 17, 18]]], dtype=int32)>"
            ]
          },
          "metadata": {
            "tags": []
          },
          "execution_count": 18
        }
      ]
    },
    {
      "cell_type": "code",
      "metadata": {
        "colab": {
          "base_uri": "https://localhost:8080/"
        },
        "id": "Vx2oQnmNR5lr",
        "outputId": "5053abe0-4c4f-408d-9f54-809c7eb8ebe3"
      },
      "source": [
        "# Number of dimensions in tensor\n",
        "tensor.ndim"
      ],
      "execution_count": 20,
      "outputs": [
        {
          "output_type": "execute_result",
          "data": {
            "text/plain": [
              "3"
            ]
          },
          "metadata": {
            "tags": []
          },
          "execution_count": 20
        }
      ]
    },
    {
      "cell_type": "markdown",
      "metadata": {
        "id": "nbxjkp6vSBhx"
      },
      "source": [
        "### Summary [Till Now]\n",
        "*  Scalar: a single number\n",
        "*  Vector: a number with a direction (eg wind speed and direction)\n",
        "*  Matrix: a 2-dimensional array of numbers.\n",
        "*  Tensor: an n-dimensional array of numbers. (where n can be any number, a 0-D tensor is a scalar, a 1-D tensor is a vector and a 2-D vector is a matrix)"
      ]
    },
    {
      "cell_type": "markdown",
      "metadata": {
        "id": "nUwtNN4cSvrM"
      },
      "source": [
        "### Tensors using `tf.Variable()`"
      ]
    },
    {
      "cell_type": "code",
      "metadata": {
        "colab": {
          "base_uri": "https://localhost:8080/"
        },
        "id": "B76T7Z4QTO6I",
        "outputId": "a2168411-f8ab-40d5-a0ba-8a32a6863687"
      },
      "source": [
        "# Create a changeable and unchangeable tensor\n",
        "changeable_tensor = tf.Variable([10,7])\n",
        "unchangeable_tensor = tf.constant([10,7])\n",
        "changeable_tensor, unchangeable_tensor"
      ],
      "execution_count": 23,
      "outputs": [
        {
          "output_type": "execute_result",
          "data": {
            "text/plain": [
              "(<tf.Variable 'Variable:0' shape=(2,) dtype=int32, numpy=array([10,  7], dtype=int32)>,\n",
              " <tf.Tensor: shape=(2,), dtype=int32, numpy=array([10,  7], dtype=int32)>)"
            ]
          },
          "metadata": {
            "tags": []
          },
          "execution_count": 23
        }
      ]
    },
    {
      "cell_type": "code",
      "metadata": {
        "colab": {
          "base_uri": "https://localhost:8080/"
        },
        "id": "kofM1qJLTY04",
        "outputId": "ed7baebd-2bfc-4573-ed7a-edc1d2acb7a8"
      },
      "source": [
        "# try changing an element in `changeable_tensor`\n",
        "# changeable_tensor[0] = 7  # The Wrong Way\n",
        "changeable_tensor[0].assign(7)\n",
        "changeable_tensor"
      ],
      "execution_count": 26,
      "outputs": [
        {
          "output_type": "execute_result",
          "data": {
            "text/plain": [
              "<tf.Variable 'Variable:0' shape=(2,) dtype=int32, numpy=array([7, 7], dtype=int32)>"
            ]
          },
          "metadata": {
            "tags": []
          },
          "execution_count": 26
        }
      ]
    },
    {
      "cell_type": "code",
      "metadata": {
        "id": "RzWu9QnsVLGV"
      },
      "source": [
        "# # `unchangeable_tensor` cannot be changed\n",
        "# unchangeable_tensor[0] = 7 # Wrong\n",
        "# unchangeable_tensor[0].assign(7) # Wrong"
      ],
      "execution_count": 31,
      "outputs": []
    },
    {
      "cell_type": "markdown",
      "metadata": {
        "id": "3WlAKldaViVy"
      },
      "source": [
        "### Creating random tensors"
      ]
    },
    {
      "cell_type": "code",
      "metadata": {
        "id": "6dt-jia8WAwm"
      },
      "source": [
        ""
      ],
      "execution_count": null,
      "outputs": []
    }
  ]
}