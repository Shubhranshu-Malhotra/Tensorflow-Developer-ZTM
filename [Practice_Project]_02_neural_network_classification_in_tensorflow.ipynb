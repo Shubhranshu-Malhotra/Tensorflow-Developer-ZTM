{
  "nbformat": 4,
  "nbformat_minor": 0,
  "metadata": {
    "colab": {
      "name": "[Practice Project] 02_neural_network_classification_in_tensorflow.ipynb",
      "provenance": [],
      "collapsed_sections": [],
      "mount_file_id": "1t2qu6dX54ogCSxHCRdJ3n9-4RcPFh32d",
      "authorship_tag": "ABX9TyMPbkhetr3+ekoeomLU5Ke8",
      "include_colab_link": true
    },
    "kernelspec": {
      "name": "python3",
      "display_name": "Python 3"
    },
    "language_info": {
      "name": "python"
    }
  },
  "cells": [
    {
      "cell_type": "markdown",
      "metadata": {
        "id": "view-in-github",
        "colab_type": "text"
      },
      "source": [
        "<a href=\"https://colab.research.google.com/github/Shubhranshu-Malhotra/Tensorflow-Developer-ZTM/blob/main/%5BPractice_Project%5D_02_neural_network_classification_in_tensorflow.ipynb\" target=\"_parent\"><img src=\"https://colab.research.google.com/assets/colab-badge.svg\" alt=\"Open In Colab\"/></a>"
      ]
    },
    {
      "cell_type": "markdown",
      "metadata": {
        "id": "1_hvB6zNMJi3"
      },
      "source": [
        "# Multiclass Classification Practice Project\n",
        "\n",
        "To practice multiclass classification we are going to build neural network to classify different types of clothing.  \n",
        "  \n",
        "### Labels\n",
        "Each training and test example is assigned to one of the following labels:\n",
        "\n",
        "| Label | Description |\n",
        "| --- | --- |\n",
        "| 0 | T-shirt/top |\n",
        "| 1 | Trouser |\n",
        "| 2 | Pullover |\n",
        "| 3 | Dress |\n",
        "| 4 | Coat |\n",
        "| 5 | Sandal |\n",
        "| 6 | Shirt |\n",
        "| 7 | Sneaker |\n",
        "| 8 | Bag |\n",
        "| 9 | Ankle boot |\n"
      ]
    },
    {
      "cell_type": "markdown",
      "metadata": {
        "id": "fkxORTf_W8j-"
      },
      "source": [
        "## Imports"
      ]
    },
    {
      "cell_type": "code",
      "metadata": {
        "id": "4aYgPyHNLLEK"
      },
      "source": [
        "import tensorflow as tf\n",
        "from tensorflow.keras.datasets import fashion_mnist\n",
        "import numpy as np\n",
        "import matplotlib.pyplot as plt\n",
        "import pandas as pd"
      ],
      "execution_count": 27,
      "outputs": []
    },
    {
      "cell_type": "markdown",
      "metadata": {
        "id": "e4PVEBNCW-dZ"
      },
      "source": [
        "## Load Data"
      ]
    },
    {
      "cell_type": "code",
      "metadata": {
        "colab": {
          "base_uri": "https://localhost:8080/"
        },
        "id": "6p5sQh_3LR6c",
        "outputId": "1ee15e98-4869-413d-c84b-07aa394ba0b1"
      },
      "source": [
        "# The fashion mnist is already divided into test and training data.\n",
        "(X_train, y_train), (X_test, y_test) = fashion_mnist.load_data()\n"
      ],
      "execution_count": 2,
      "outputs": [
        {
          "output_type": "stream",
          "text": [
            "Downloading data from https://storage.googleapis.com/tensorflow/tf-keras-datasets/train-labels-idx1-ubyte.gz\n",
            "32768/29515 [=================================] - 0s 0us/step\n",
            "Downloading data from https://storage.googleapis.com/tensorflow/tf-keras-datasets/train-images-idx3-ubyte.gz\n",
            "26427392/26421880 [==============================] - 0s 0us/step\n",
            "Downloading data from https://storage.googleapis.com/tensorflow/tf-keras-datasets/t10k-labels-idx1-ubyte.gz\n",
            "8192/5148 [===============================================] - 0s 0us/step\n",
            "Downloading data from https://storage.googleapis.com/tensorflow/tf-keras-datasets/t10k-images-idx3-ubyte.gz\n",
            "4423680/4422102 [==============================] - 0s 0us/step\n"
          ],
          "name": "stdout"
        }
      ]
    },
    {
      "cell_type": "code",
      "metadata": {
        "colab": {
          "base_uri": "https://localhost:8080/"
        },
        "id": "nidSW6reQB09",
        "outputId": "9de0c62a-250e-462a-904b-6407453e2506"
      },
      "source": [
        "class_to_label = { 0 : 'T-shirt/top',\n",
        "                   1 : 'Trouser',\n",
        "                   2 : 'Pullover',\n",
        "                   3 : 'Dress',\n",
        "                   4 : 'Coat',\n",
        "                   5 : 'Sandal',\n",
        "                   6 : 'Shirt',\n",
        "                   7 : 'Sneaker',\n",
        "                   8 : 'Bag',\n",
        "                   9 : 'Ankle boot'\n",
        "                  }\n",
        "print(\"Class Labels Dictionary: \", class_to_label)\n",
        "print(\"Total number of classes: \", len(class_to_label))"
      ],
      "execution_count": 3,
      "outputs": [
        {
          "output_type": "stream",
          "text": [
            "Class Labels Dictionary:  {0: 'T-shirt/top', 1: 'Trouser', 2: 'Pullover', 3: 'Dress', 4: 'Coat', 5: 'Sandal', 6: 'Shirt', 7: 'Sneaker', 8: 'Bag', 9: 'Ankle boot'}\n",
            "Total number of classes:  10\n"
          ],
          "name": "stdout"
        }
      ]
    },
    {
      "cell_type": "markdown",
      "metadata": {
        "id": "SjQM17M_XCpr"
      },
      "source": [
        "## Visualize loaded dataset"
      ]
    },
    {
      "cell_type": "code",
      "metadata": {
        "colab": {
          "base_uri": "https://localhost:8080/",
          "height": 1000
        },
        "id": "92yHuCLPONd3",
        "outputId": "9f5faaea-537a-4083-d3f7-b90ba401fab2"
      },
      "source": [
        "# Visualize a training sample\n",
        "i = 10\n",
        "print(f\"The {i}th training example:\")\n",
        "print(X_train[i])\n",
        "print(f\"The {i} th training label is: {y_train[i]}: {class_to_label[y_train[i]]}\")\n",
        "\n",
        "plt.imshow(X_train[i], cmap = 'gray');\n",
        "plt.title(class_to_label[y_train[i]]);"
      ],
      "execution_count": 4,
      "outputs": [
        {
          "output_type": "stream",
          "text": [
            "The 10th training example:\n",
            "[[  0   0   0   0   0   0   0  11 142 200 106   0   0   0   0   0   0   0\n",
            "   85 185 112   0   0   0   0   0   0   0]\n",
            " [  0   0   0   0   0   0 152 214 217 194 236 216 187 149 135 153 211 217\n",
            "  231 205 217 188  34   0   0   0   0   0]\n",
            " [  0   0   0   0   0  66 185 166 180 181 190 211 221 197 146 198 206 191\n",
            "  168 190 172 188 175   0   0   0   0   0]\n",
            " [  0   0   0   0   0 135 153 160 175 180 170 186 187 190 188 190 187 174\n",
            "  195 185 174 161 175  59   0   0   0   0]\n",
            " [  0   0   0   0   0 161 147 160 170 178 177 180 168 173 174 171 185 184\n",
            "  185 172 171 164 174 120   0   0   0   0]\n",
            " [  0   0   0   0   2 175 146 145 168 178 181 185 180 184 178 179 187 191\n",
            "  193 190 181 171 172 158   0   0   0   0]\n",
            " [  0   0   0   0  35 177 155 140 151 172 191 187 186 187 186 187 182 191\n",
            "  194 188 180 161 161 185   0   0   0   0]\n",
            " [  0   0   0   0  59 170 153 141 120 154 160 161 172 168 166 161 165 172\n",
            "  170 164 139 149 162 166  21   0   0   0]\n",
            " [  0   0   0   0  79 145 160 214 123 128 153 160 164 158 157 154 155 170\n",
            "  165 141 195 193 152 166  61   0   0   0]\n",
            " [  0   0   0   0 100 157 225 245 175 113 174 158 158 160 155 160 164 178\n",
            "  188 135 185 240 201 172 108   0   0   0]\n",
            " [  0   0   0   0   0  31 174  28 126 153 166 152 158 158 160 161 157 168\n",
            "  191 188  18 132 159   7   0   0   0   0]\n",
            " [  0   0   0   0   0   0   0   0  82 187 159 153 157 158 162 164 164 154\n",
            "  187 190   0   0   0   0   0   0   0   0]\n",
            " [  0   0   0   0   1   3   5   0  37 175 158 155 162 158 160 162 165 153\n",
            "  177 205   0   0   3   3   0   0   0   0]\n",
            " [  0   0   0   0   0   0   1   0  25 175 152 160 158 161 160 164 164 161\n",
            "  166 200   0   0   1   0   0   0   0   0]\n",
            " [  0   0   0   0   0   0   4   0  30 171 147 164 155 165 161 165 162 170\n",
            "  164 162   0   0   2   0   0   0   0   0]\n",
            " [  0   0   0   0   0   0   4   0  57 166 155 164 166 161 161 164 167 165\n",
            "  165 162  28   0   3   0   0   0   0   0]\n",
            " [  0   0   0   0   0   0   3   0 114 161 161 166 159 168 161 161 172 162\n",
            "  165 171  50   0   5   0   0   0   0   0]\n",
            " [  0   0   0   0   0   0   1   0 149 157 167 172 159 172 164 161 172 170\n",
            "  160 171  89   0   4   0   0   0   0   0]\n",
            " [  0   0   0   0   0   2   0   4 171 164 166 173 159 179 166 160 174 167\n",
            "  162 166 128   0   2   0   0   0   0   0]\n",
            " [  0   0   0   0   0   3   0  18 152 173 160 179 154 181 166 164 175 170\n",
            "  166 170 164   0   0   1   0   0   0   0]\n",
            " [  0   0   0   0   0   4   0  47 165 172 167 185 153 187 173 165 174 179\n",
            "  166 166 158   5   0   3   0   0   0   0]\n",
            " [  0   0   0   0   0   4   0  87 180 162 179 179 157 191 182 165 168 190\n",
            "  173 165 166  20   0   4   0   0   0   0]\n",
            " [  0   0   0   0   0   4   0 105 187 157 194 175 161 190 184 170 158 205\n",
            "  177 168 171  44   0   4   0   0   0   0]\n",
            " [  0   0   0   0   0   5   0 138 181 158 205 160 167 190 198 167 152 218\n",
            "  186 170 172  57   0   5   0   0   0   0]\n",
            " [  0   0   0   0   0   5   0 135 174 167 199 155 166 201 219 165 158 218\n",
            "  188 167 175  56   0   7   0   0   0   0]\n",
            " [  0   0   0   0   0   5   0 129 171 172 177 153 159 206 216 148 157 206\n",
            "  190 165 175  48   0   5   0   0   0   0]\n",
            " [  0   0   0   0   0   5   0 167 187 182 198 194 200 226 240 184 206 255\n",
            "  197 178 179  42   0   5   0   0   0   0]\n",
            " [  0   0   0   0   0   3   0 115 135 113 106  85  82 108 133  83  90 121\n",
            "  120 110 158  18   0   3   0   0   0   0]]\n",
            "The 10 th training label is: 0: T-shirt/top\n"
          ],
          "name": "stdout"
        },
        {
          "output_type": "display_data",
          "data": {
            "image/png": "[encoded data removed]",
            "text/plain": [
              "<Figure size 432x288 with 1 Axes>"
            ]
          },
          "metadata": {
            "tags": [],
            "needs_background": "light"
          }
        }
      ]
    },
    {
      "cell_type": "code",
      "metadata": {
        "colab": {
          "base_uri": "https://localhost:8080/"
        },
        "id": "IrDgmchVQ8cF",
        "outputId": "27d94f1b-309d-420e-d0f9-0acd7eeb357c"
      },
      "source": [
        "# Check the shapes of train and test data\n",
        "X_train.shape, y_train.shape, X_test.shape, y_test.shape"
      ],
      "execution_count": 5,
      "outputs": [
        {
          "output_type": "execute_result",
          "data": {
            "text/plain": [
              "((60000, 28, 28), (60000,), (10000, 28, 28), (10000,))"
            ]
          },
          "metadata": {
            "tags": []
          },
          "execution_count": 5
        }
      ]
    },
    {
      "cell_type": "code",
      "metadata": {
        "id": "4I4MCtQYSL-C"
      },
      "source": [
        "# Function to visualize multiple random images from the dataset\n",
        "\n",
        "def visualize_data(images, labels, to_plot = 12, class_to_label = class_to_label):\n",
        "  \"\"\"\n",
        "  Visualize data by plotting a given number of random images.\n",
        "  \"\"\"\n",
        "  ax = plt.figure(figsize = (12, to_plot/4 *3))\n",
        "  for i in range(to_plot):\n",
        "    random_choice = np.random.choice(len(labels))\n",
        "    ax = plt.subplot(to_plot/4, 4, i+1)\n",
        "    ax = plt.imshow(images[random_choice], cmap = 'gray')\n",
        "    ax = plt.title(class_to_label[labels[random_choice]], fontdict={'fontsize': 15, 'color': 'green'})\n",
        "    ax = plt.axis(False)\n"
      ],
      "execution_count": 6,
      "outputs": []
    },
    {
      "cell_type": "code",
      "metadata": {
        "colab": {
          "base_uri": "https://localhost:8080/",
          "height": 538
        },
        "id": "pdYPrkFIVfBJ",
        "outputId": "1570143d-7f3f-4929-c618-6aba0f8b1c5c"
      },
      "source": [
        "visualize_data(X_train, y_train)"
      ],
      "execution_count": 7,
      "outputs": [
        {
          "output_type": "display_data",
          "data": {
            "image/png": "[encoded data removed]",
            "text/plain": [
              "<Figure size 864x648 with 12 Axes>"
            ]
          },
          "metadata": {
            "tags": [],
            "needs_background": "light"
          }
        }
      ]
    },
    {
      "cell_type": "markdown",
      "metadata": {
        "id": "t7lwDoehV_dU"
      },
      "source": [
        "## Build a model\n",
        "Since this is a multiclass classification problem, we'll need to make a few changes to our architecture.\n",
        "\n",
        "* The **input shape** will have to deal with `28x28` tensors (the height and width of our images).\n",
        "  * We're actually going to squash the input into a tensor (vector) of shape `(784)`.\n",
        "* The **output shape** will have to be `10` because we need our model to predict for 10 different classes.\n",
        "  * We'll also change the `activation` parameter of our output layer to be [`\"softmax\"`](https://www.tensorflow.org/api_docs/python/tf/keras/activations/softmax) instead of `'sigmoid'`. As we'll see the `\"softmax\"` activation function outputs a series of values between 0 & 1 (the same shape as **output shape**, which together add up to ~1. The index with the highest value is predicted by the model to be the most *likely* class.\n",
        "* We'll need to change our loss function from a binary loss function to a multiclass loss function. \n",
        "  * More specifically, since our labels are in integer form, we'll use [`tf.keras.losses.SparseCategoricalCrossentropy()`](https://www.tensorflow.org/versions/r2.0/api_docs/python/tf/keras/losses/SparseCategoricalCrossentropy), if our labels were one-hot encoded (e.g. they looked something like `[0, 0, 1, 0, 0...]`), we'd use [`tf.keras.losses.CategoricalCrossentropy()`](https://www.tensorflow.org/api_docs/python/tf/keras/losses/CategoricalCrossentropy).[Important]\n",
        "* We'll also use the `validation_data` parameter when calling the `fit()` function. This will give us an idea of how the model performs on the test set during training.\n"
      ]
    },
    {
      "cell_type": "code",
      "metadata": {
        "colab": {
          "base_uri": "https://localhost:8080/"
        },
        "id": "T9z4sMVTW5zS",
        "outputId": "4577d1b1-7eb7-41c3-c1e0-6ed994169da2"
      },
      "source": [
        "tf.random.set_seed(42)\n",
        "\n",
        "model_1 = tf.keras.Sequential([\n",
        "                      tf.keras.layers.Flatten(input_shape = (28,28)),\n",
        "                      tf.keras.layers.Dense(4, activation = 'relu'),\n",
        "                      tf.keras.layers.Dense(4, activation = 'relu'),\n",
        "                      tf.keras.layers.Dense(10, activation = 'softmax')\n",
        "])\n",
        "\n",
        "\n",
        "model_1.compile(loss = tf.keras.losses.SparseCategoricalCrossentropy(),\n",
        "                 optimizer = tf.keras.optimizers.Adam(),\n",
        "                 metrics = ['accuracy'])\n",
        "\n",
        "non_norm_history_1 = model_1.fit(X_train, y_train, epochs = 10, validation_data = (X_test, y_test))"
      ],
      "execution_count": 21,
      "outputs": [
        {
          "output_type": "stream",
          "text": [
            "Epoch 1/10\n",
            "1875/1875 [==============================] - 4s 2ms/step - loss: 2.8192 - accuracy: 0.1345 - val_loss: 1.7951 - val_accuracy: 0.2100\n",
            "Epoch 2/10\n",
            "1875/1875 [==============================] - 3s 2ms/step - loss: 1.7426 - accuracy: 0.2323 - val_loss: 1.6439 - val_accuracy: 0.3022\n",
            "Epoch 3/10\n",
            "1875/1875 [==============================] - 3s 2ms/step - loss: 1.6413 - accuracy: 0.2837 - val_loss: 1.6003 - val_accuracy: 0.2818\n",
            "Epoch 4/10\n",
            "1875/1875 [==============================] - 3s 2ms/step - loss: 1.6065 - accuracy: 0.2888 - val_loss: 1.5964 - val_accuracy: 0.2958\n",
            "Epoch 5/10\n",
            "1875/1875 [==============================] - 3s 2ms/step - loss: 1.5988 - accuracy: 0.3031 - val_loss: 1.5948 - val_accuracy: 0.3005\n",
            "Epoch 6/10\n",
            "1875/1875 [==============================] - 3s 2ms/step - loss: 1.5888 - accuracy: 0.3078 - val_loss: 1.5678 - val_accuracy: 0.3195\n",
            "Epoch 7/10\n",
            "1875/1875 [==============================] - 3s 2ms/step - loss: 1.5668 - accuracy: 0.3213 - val_loss: 1.5695 - val_accuracy: 0.3161\n",
            "Epoch 8/10\n",
            "1875/1875 [==============================] - 3s 2ms/step - loss: 1.5564 - accuracy: 0.3228 - val_loss: 1.5526 - val_accuracy: 0.3343\n",
            "Epoch 9/10\n",
            "1875/1875 [==============================] - 3s 2ms/step - loss: 1.5690 - accuracy: 0.3246 - val_loss: 1.5467 - val_accuracy: 0.3373\n",
            "Epoch 10/10\n",
            "1875/1875 [==============================] - 3s 2ms/step - loss: 1.5531 - accuracy: 0.3284 - val_loss: 1.5339 - val_accuracy: 0.3542\n"
          ],
          "name": "stdout"
        }
      ]
    },
    {
      "cell_type": "code",
      "metadata": {
        "colab": {
          "base_uri": "https://localhost:8080/"
        },
        "id": "6JVPGwuNf1xP",
        "outputId": "6cb0b2a4-b6cc-4ad0-e284-5a3c137061a4"
      },
      "source": [
        "# What does flatten layers do?\n",
        "temp_model = tf.keras.Sequential([\n",
        "                      tf.keras.layers.Flatten(input_shape = (28,28))])\n",
        "temp_model.output_shape"
      ],
      "execution_count": 9,
      "outputs": [
        {
          "output_type": "execute_result",
          "data": {
            "text/plain": [
              "(None, 784)"
            ]
          },
          "metadata": {
            "tags": []
          },
          "execution_count": 9
        }
      ]
    },
    {
      "cell_type": "code",
      "metadata": {
        "id": "ppl7fN-Qpm7W"
      },
      "source": [
        "oh_y_train = tf.one_hot(y_train, depth = 10)\n",
        "oh_y_test = tf.one_hot(y_test, depth = 10)"
      ],
      "execution_count": 10,
      "outputs": []
    },
    {
      "cell_type": "code",
      "metadata": {
        "colab": {
          "base_uri": "https://localhost:8080/"
        },
        "id": "zh8bPy_0rO7a",
        "outputId": "bf48899e-f340-4e2f-b51d-38b55b953b14"
      },
      "source": [
        "oh_y_test.shape"
      ],
      "execution_count": 11,
      "outputs": [
        {
          "output_type": "execute_result",
          "data": {
            "text/plain": [
              "TensorShape([10000, 10])"
            ]
          },
          "metadata": {
            "tags": []
          },
          "execution_count": 11
        }
      ]
    },
    {
      "cell_type": "code",
      "metadata": {
        "colab": {
          "base_uri": "https://localhost:8080/"
        },
        "id": "_A-xW1TerLSj",
        "outputId": "778e5b24-df58-4c35-9879-9c43e8f740aa"
      },
      "source": [
        "oh_y_test[:5]"
      ],
      "execution_count": 12,
      "outputs": [
        {
          "output_type": "execute_result",
          "data": {
            "text/plain": [
              "<tf.Tensor: shape=(5, 10), dtype=float32, numpy=\n",
              "array([[0., 0., 0., 0., 0., 0., 0., 0., 0., 1.],\n",
              "       [0., 0., 1., 0., 0., 0., 0., 0., 0., 0.],\n",
              "       [0., 1., 0., 0., 0., 0., 0., 0., 0., 0.],\n",
              "       [0., 1., 0., 0., 0., 0., 0., 0., 0., 0.],\n",
              "       [0., 0., 0., 0., 0., 0., 1., 0., 0., 0.]], dtype=float32)>"
            ]
          },
          "metadata": {
            "tags": []
          },
          "execution_count": 12
        }
      ]
    },
    {
      "cell_type": "code",
      "metadata": {
        "colab": {
          "base_uri": "https://localhost:8080/"
        },
        "id": "A83YjROEj6dY",
        "outputId": "ac623b81-19d9-4af3-9168-256baa0e1e8c"
      },
      "source": [
        "tf.random.set_seed(42)\n",
        "\n",
        "model_2 = tf.keras.Sequential([\n",
        "                      tf.keras.layers.Flatten(input_shape = (28,28)),\n",
        "                      tf.keras.layers.Dense(4, activation = 'relu'),\n",
        "                      tf.keras.layers.Dense(4, activation = 'relu'),\n",
        "                      tf.keras.layers.Dense(10, activation = 'softmax')\n",
        "])\n",
        "\n",
        "\n",
        "model_2.compile(loss = tf.keras.losses.CategoricalCrossentropy(),\n",
        "                 optimizer = tf.keras.optimizers.Adam(),\n",
        "                 metrics = ['accuracy'])\n",
        "\n",
        "non_norm_history_2 = model_2.fit(X_train, oh_y_train, epochs = 10, validation_data = (X_test, oh_y_test))"
      ],
      "execution_count": 22,
      "outputs": [
        {
          "output_type": "stream",
          "text": [
            "Epoch 1/10\n",
            "1875/1875 [==============================] - 4s 2ms/step - loss: 2.8192 - accuracy: 0.1345 - val_loss: 1.7951 - val_accuracy: 0.2100\n",
            "Epoch 2/10\n",
            "1875/1875 [==============================] - 3s 2ms/step - loss: 1.7426 - accuracy: 0.2323 - val_loss: 1.6439 - val_accuracy: 0.3022\n",
            "Epoch 3/10\n",
            "1875/1875 [==============================] - 3s 2ms/step - loss: 1.6413 - accuracy: 0.2837 - val_loss: 1.6003 - val_accuracy: 0.2818\n",
            "Epoch 4/10\n",
            "1875/1875 [==============================] - 3s 2ms/step - loss: 1.6065 - accuracy: 0.2888 - val_loss: 1.5964 - val_accuracy: 0.2958\n",
            "Epoch 5/10\n",
            "1875/1875 [==============================] - 3s 2ms/step - loss: 1.5988 - accuracy: 0.3031 - val_loss: 1.5948 - val_accuracy: 0.3005\n",
            "Epoch 6/10\n",
            "1875/1875 [==============================] - 3s 2ms/step - loss: 1.5888 - accuracy: 0.3078 - val_loss: 1.5678 - val_accuracy: 0.3195\n",
            "Epoch 7/10\n",
            "1875/1875 [==============================] - 3s 2ms/step - loss: 1.5668 - accuracy: 0.3213 - val_loss: 1.5695 - val_accuracy: 0.3161\n",
            "Epoch 8/10\n",
            "1875/1875 [==============================] - 3s 2ms/step - loss: 1.5564 - accuracy: 0.3228 - val_loss: 1.5526 - val_accuracy: 0.3343\n",
            "Epoch 9/10\n",
            "1875/1875 [==============================] - 3s 2ms/step - loss: 1.5690 - accuracy: 0.3246 - val_loss: 1.5467 - val_accuracy: 0.3373\n",
            "Epoch 10/10\n",
            "1875/1875 [==============================] - 3s 2ms/step - loss: 1.5531 - accuracy: 0.3284 - val_loss: 1.5339 - val_accuracy: 0.3542\n"
          ],
          "name": "stdout"
        }
      ]
    },
    {
      "cell_type": "code",
      "metadata": {
        "colab": {
          "base_uri": "https://localhost:8080/"
        },
        "id": "TLGT1Fm7qk17",
        "outputId": "e4fedf0c-6104-45cc-a1c7-3f3ffd327d47"
      },
      "source": [
        "model_1.summary()"
      ],
      "execution_count": 15,
      "outputs": [
        {
          "output_type": "stream",
          "text": [
            "Model: \"sequential\"\n",
            "_________________________________________________________________\n",
            "Layer (type)                 Output Shape              Param #   \n",
            "=================================================================\n",
            "flatten (Flatten)            (None, 784)               0         \n",
            "_________________________________________________________________\n",
            "dense (Dense)                (None, 4)                 3140      \n",
            "_________________________________________________________________\n",
            "dense_1 (Dense)              (None, 4)                 20        \n",
            "_________________________________________________________________\n",
            "dense_2 (Dense)              (None, 10)                50        \n",
            "=================================================================\n",
            "Total params: 3,210\n",
            "Trainable params: 3,210\n",
            "Non-trainable params: 0\n",
            "_________________________________________________________________\n"
          ],
          "name": "stdout"
        }
      ]
    },
    {
      "cell_type": "markdown",
      "metadata": {
        "id": "QEt4k4A-TM22"
      },
      "source": [
        "## Scaling/Normalizing the data\n",
        "\n",
        "Divide pixels by 255 to bring between 0 and 1."
      ]
    },
    {
      "cell_type": "code",
      "metadata": {
        "colab": {
          "base_uri": "https://localhost:8080/"
        },
        "id": "ZuoJYxArTXKt",
        "outputId": "88f1bc18-25e7-459b-cee1-56682a9267d9"
      },
      "source": [
        "tf.reduce_min(X_train), tf.reduce_max(X_train)"
      ],
      "execution_count": 18,
      "outputs": [
        {
          "output_type": "execute_result",
          "data": {
            "text/plain": [
              "(<tf.Tensor: shape=(), dtype=uint8, numpy=0>,\n",
              " <tf.Tensor: shape=(), dtype=uint8, numpy=255>)"
            ]
          },
          "metadata": {
            "tags": []
          },
          "execution_count": 18
        }
      ]
    },
    {
      "cell_type": "code",
      "metadata": {
        "id": "3zkjrBf1Tkm9"
      },
      "source": [
        "norm_X_train = X_train / 255.\n",
        "norm_X_test = X_test/ 255."
      ],
      "execution_count": 19,
      "outputs": []
    },
    {
      "cell_type": "code",
      "metadata": {
        "colab": {
          "base_uri": "https://localhost:8080/"
        },
        "id": "qHI663V8UCLk",
        "outputId": "7adba037-448a-4eab-9f2f-e6e627ca8f76"
      },
      "source": [
        "tf.reduce_min(norm_X_train),tf.reduce_max(norm_X_train)"
      ],
      "execution_count": 20,
      "outputs": [
        {
          "output_type": "execute_result",
          "data": {
            "text/plain": [
              "(<tf.Tensor: shape=(), dtype=float64, numpy=0.0>,\n",
              " <tf.Tensor: shape=(), dtype=float64, numpy=1.0>)"
            ]
          },
          "metadata": {
            "tags": []
          },
          "execution_count": 20
        }
      ]
    },
    {
      "cell_type": "code",
      "metadata": {
        "colab": {
          "base_uri": "https://localhost:8080/"
        },
        "id": "Ai9u3Mk9UHLS",
        "outputId": "24480760-6713-4f12-8153-513c475183cf"
      },
      "source": [
        "tf.random.set_seed(42)\n",
        "\n",
        "model_3 = tf.keras.Sequential([\n",
        "                      tf.keras.layers.Flatten(input_shape = (28,28)),\n",
        "                      tf.keras.layers.Dense(4, activation = 'relu'),\n",
        "                      tf.keras.layers.Dense(4, activation = 'relu'),\n",
        "                      tf.keras.layers.Dense(10, activation = 'softmax')\n",
        "])\n",
        "\n",
        "\n",
        "model_3.compile(loss = tf.keras.losses.SparseCategoricalCrossentropy(),\n",
        "                 optimizer = tf.keras.optimizers.Adam(),\n",
        "                 metrics = ['accuracy'])\n",
        "\n",
        "norm_history_3 = model_3.fit(norm_X_train, y_train, epochs = 10, validation_data=(norm_X_test, y_test))"
      ],
      "execution_count": 34,
      "outputs": [
        {
          "output_type": "stream",
          "text": [
            "Epoch 1/10\n",
            "1875/1875 [==============================] - 4s 2ms/step - loss: 1.4476 - accuracy: 0.5004 - val_loss: 0.6937 - val_accuracy: 0.7617\n",
            "Epoch 2/10\n",
            "1875/1875 [==============================] - 3s 2ms/step - loss: 0.6479 - accuracy: 0.7706 - val_loss: 0.6400 - val_accuracy: 0.7820\n",
            "Epoch 3/10\n",
            "1875/1875 [==============================] - 3s 2ms/step - loss: 0.5984 - accuracy: 0.7902 - val_loss: 0.6247 - val_accuracy: 0.7783\n",
            "Epoch 4/10\n",
            "1875/1875 [==============================] - 3s 2ms/step - loss: 0.5767 - accuracy: 0.7986 - val_loss: 0.6078 - val_accuracy: 0.7881\n",
            "Epoch 5/10\n",
            "1875/1875 [==============================] - 3s 2ms/step - loss: 0.5611 - accuracy: 0.8017 - val_loss: 0.6169 - val_accuracy: 0.7881\n",
            "Epoch 6/10\n",
            "1875/1875 [==============================] - 3s 2ms/step - loss: 0.5562 - accuracy: 0.8030 - val_loss: 0.5855 - val_accuracy: 0.7951\n",
            "Epoch 7/10\n",
            "1875/1875 [==============================] - 3s 2ms/step - loss: 0.5458 - accuracy: 0.8076 - val_loss: 0.6097 - val_accuracy: 0.7836\n",
            "Epoch 8/10\n",
            "1875/1875 [==============================] - 3s 2ms/step - loss: 0.5432 - accuracy: 0.8086 - val_loss: 0.5787 - val_accuracy: 0.7971\n",
            "Epoch 9/10\n",
            "1875/1875 [==============================] - 3s 2ms/step - loss: 0.5457 - accuracy: 0.8065 - val_loss: 0.5698 - val_accuracy: 0.7977\n",
            "Epoch 10/10\n",
            "1875/1875 [==============================] - 3s 2ms/step - loss: 0.5289 - accuracy: 0.8149 - val_loss: 0.5658 - val_accuracy: 0.8014\n"
          ],
          "name": "stdout"
        }
      ]
    },
    {
      "cell_type": "markdown",
      "metadata": {
        "id": "sa_5ZliIUsRm"
      },
      "source": [
        "## Visualizing norm and non norm history"
      ]
    },
    {
      "cell_type": "code",
      "metadata": {
        "colab": {
          "base_uri": "https://localhost:8080/",
          "height": 563
        },
        "id": "3fK1h6CHU2SQ",
        "outputId": "1a442061-5192-4a98-b50d-1ef9f8feb0a9"
      },
      "source": [
        "pd.DataFrame(non_norm_history_1.history).plot(title = 'non normalized data')\n",
        "pd.DataFrame(norm_history_3.history).plot(title = 'normalized data')"
      ],
      "execution_count": 32,
      "outputs": [
        {
          "output_type": "execute_result",
          "data": {
            "text/plain": [
              "<matplotlib.axes._subplots.AxesSubplot at 0x7ff9fcfc3590>"
            ]
          },
          "metadata": {
            "tags": []
          },
          "execution_count": 32
        },
        {
          "output_type": "display_data",
          "data": {
            "image/png": "[encoded data removed]",
            "text/plain": [
              "<Figure size 432x288 with 1 Axes>"
            ]
          },
          "metadata": {
            "tags": [],
            "needs_background": "light"
          }
        },
        {
          "output_type": "display_data",
          "data": {
            "image/png": "[encoded data removed]",
            "text/plain": [
              "<Figure size 432x288 with 1 Axes>"
            ]
          },
          "metadata": {
            "tags": [],
            "needs_background": "light"
          }
        }
      ]
    },
    {
      "cell_type": "markdown",
      "metadata": {
        "id": "3RWU1VrtU8A_"
      },
      "source": [
        "## Finding the ideal learning rate"
      ]
    },
    {
      "cell_type": "code",
      "metadata": {
        "colab": {
          "base_uri": "https://localhost:8080/"
        },
        "id": "r-rnE4udW0c4",
        "outputId": "657b32d6-3edc-4b3c-e572-df351ba385c3"
      },
      "source": [
        "tf.random.set_seed(42)\n",
        "\n",
        "model_4 = tf.keras.Sequential([\n",
        "                               tf.keras.layers.Flatten(input_shape = (28,28)),\n",
        "                               tf.keras.layers.Dense(4, activation = 'relu'),\n",
        "                               tf.keras.layers.Dense(4, activation = 'relu'),\n",
        "                               tf.keras.layers.Dense(10, activation = 'softmax')\n",
        "])\n",
        "\n",
        "\n",
        "model_4.compile(loss = tf.keras.losses.SparseCategoricalCrossentropy(),\n",
        "                optimizer = tf.keras.optimizers.Adam(),\n",
        "                metrics = ['acc'])\n",
        "\n",
        "lr_scheduler = tf.keras.callbacks.LearningRateScheduler(lambda epoch: 1e-3 * 10**(epoch/20))\n",
        "\n",
        "find_lr_history = model_4.fit(norm_X_train, y_train, \n",
        "                        epochs = 40, \n",
        "                        validation_data = (norm_X_test, y_test),\n",
        "                        callbacks = [lr_scheduler])\n"
      ],
      "execution_count": 38,
      "outputs": [
        {
          "output_type": "stream",
          "text": [
            "Epoch 1/40\n",
            "1875/1875 [==============================] - 4s 2ms/step - loss: 1.4476 - acc: 0.5004 - val_loss: 0.6937 - val_acc: 0.7617\n",
            "Epoch 2/40\n",
            "1875/1875 [==============================] - 3s 2ms/step - loss: 0.6479 - acc: 0.7707 - val_loss: 0.6400 - val_acc: 0.7808\n",
            "Epoch 3/40\n",
            "1875/1875 [==============================] - 3s 2ms/step - loss: 0.5978 - acc: 0.7901 - val_loss: 0.6278 - val_acc: 0.7770\n",
            "Epoch 4/40\n",
            "1875/1875 [==============================] - 3s 2ms/step - loss: 0.5768 - acc: 0.7978 - val_loss: 0.6122 - val_acc: 0.7871\n",
            "Epoch 5/40\n",
            "1875/1875 [==============================] - 3s 2ms/step - loss: 0.5630 - acc: 0.7995 - val_loss: 0.6061 - val_acc: 0.7913\n",
            "Epoch 6/40\n",
            "1875/1875 [==============================] - 3s 2ms/step - loss: 0.5577 - acc: 0.8003 - val_loss: 0.5917 - val_acc: 0.7940\n",
            "Epoch 7/40\n",
            "1875/1875 [==============================] - 3s 2ms/step - loss: 0.5506 - acc: 0.8043 - val_loss: 0.5898 - val_acc: 0.7896\n",
            "Epoch 8/40\n",
            "1875/1875 [==============================] - 3s 2ms/step - loss: 0.5520 - acc: 0.8040 - val_loss: 0.5829 - val_acc: 0.7949\n",
            "Epoch 9/40\n",
            "1875/1875 [==============================] - 3s 2ms/step - loss: 0.5538 - acc: 0.8010 - val_loss: 0.6036 - val_acc: 0.7833\n",
            "Epoch 10/40\n",
            "1875/1875 [==============================] - 3s 2ms/step - loss: 0.5397 - acc: 0.8076 - val_loss: 0.5736 - val_acc: 0.7974\n",
            "Epoch 11/40\n",
            "1875/1875 [==============================] - 3s 2ms/step - loss: 0.5468 - acc: 0.8050 - val_loss: 0.5672 - val_acc: 0.8016\n",
            "Epoch 12/40\n",
            "1875/1875 [==============================] - 3s 2ms/step - loss: 0.5449 - acc: 0.8057 - val_loss: 0.5773 - val_acc: 0.7950\n",
            "Epoch 13/40\n",
            "1875/1875 [==============================] - 3s 2ms/step - loss: 0.5415 - acc: 0.8061 - val_loss: 0.5775 - val_acc: 0.7992\n",
            "Epoch 14/40\n",
            "1875/1875 [==============================] - 3s 2ms/step - loss: 0.5414 - acc: 0.8069 - val_loss: 0.5616 - val_acc: 0.8075\n",
            "Epoch 15/40\n",
            "1875/1875 [==============================] - 3s 2ms/step - loss: 0.5454 - acc: 0.8030 - val_loss: 0.5773 - val_acc: 0.8039\n",
            "Epoch 16/40\n",
            "1875/1875 [==============================] - 3s 2ms/step - loss: 0.5430 - acc: 0.8069 - val_loss: 0.5682 - val_acc: 0.8015\n",
            "Epoch 17/40\n",
            "1875/1875 [==============================] - 3s 2ms/step - loss: 0.5407 - acc: 0.8060 - val_loss: 0.5995 - val_acc: 0.7964\n",
            "Epoch 18/40\n",
            "1875/1875 [==============================] - 3s 2ms/step - loss: 0.5482 - acc: 0.8056 - val_loss: 0.5544 - val_acc: 0.8087\n",
            "Epoch 19/40\n",
            "1875/1875 [==============================] - 3s 2ms/step - loss: 0.5477 - acc: 0.8037 - val_loss: 0.6068 - val_acc: 0.7864\n",
            "Epoch 20/40\n",
            "1875/1875 [==============================] - 3s 2ms/step - loss: 0.5577 - acc: 0.8020 - val_loss: 0.5597 - val_acc: 0.8076\n",
            "Epoch 21/40\n",
            "1875/1875 [==============================] - 3s 2ms/step - loss: 0.5545 - acc: 0.8054 - val_loss: 0.5998 - val_acc: 0.7934\n",
            "Epoch 22/40\n",
            "1875/1875 [==============================] - 3s 2ms/step - loss: 0.5659 - acc: 0.7977 - val_loss: 0.5756 - val_acc: 0.8034\n",
            "Epoch 23/40\n",
            "1875/1875 [==============================] - 3s 2ms/step - loss: 0.5662 - acc: 0.8000 - val_loss: 0.6386 - val_acc: 0.7668\n",
            "Epoch 24/40\n",
            "1875/1875 [==============================] - 3s 2ms/step - loss: 0.5802 - acc: 0.7946 - val_loss: 0.6356 - val_acc: 0.7869\n",
            "Epoch 25/40\n",
            "1875/1875 [==============================] - 3s 2ms/step - loss: 0.5798 - acc: 0.7980 - val_loss: 0.6481 - val_acc: 0.7865\n",
            "Epoch 26/40\n",
            "1875/1875 [==============================] - 3s 2ms/step - loss: 0.6014 - acc: 0.7908 - val_loss: 0.6997 - val_acc: 0.7802\n",
            "Epoch 27/40\n",
            "1875/1875 [==============================] - 3s 2ms/step - loss: 0.6107 - acc: 0.7844 - val_loss: 0.6124 - val_acc: 0.7917\n",
            "Epoch 28/40\n",
            "1875/1875 [==============================] - 3s 2ms/step - loss: 0.6124 - acc: 0.7853 - val_loss: 0.6137 - val_acc: 0.7962\n",
            "Epoch 29/40\n",
            "1875/1875 [==============================] - 3s 2ms/step - loss: 0.6338 - acc: 0.7778 - val_loss: 0.6655 - val_acc: 0.7621\n",
            "Epoch 30/40\n",
            "1875/1875 [==============================] - 3s 2ms/step - loss: 0.6530 - acc: 0.7722 - val_loss: 0.7274 - val_acc: 0.7454\n",
            "Epoch 31/40\n",
            "1875/1875 [==============================] - 3s 2ms/step - loss: 0.6789 - acc: 0.7593 - val_loss: 0.6861 - val_acc: 0.7527\n",
            "Epoch 32/40\n",
            "1875/1875 [==============================] - 3s 2ms/step - loss: 0.7120 - acc: 0.7548 - val_loss: 0.8097 - val_acc: 0.7441\n",
            "Epoch 33/40\n",
            "1875/1875 [==============================] - 3s 2ms/step - loss: 0.7795 - acc: 0.7316 - val_loss: 0.8163 - val_acc: 0.7702\n",
            "Epoch 34/40\n",
            "1875/1875 [==============================] - 3s 2ms/step - loss: 0.7723 - acc: 0.7413 - val_loss: 0.7519 - val_acc: 0.7000\n",
            "Epoch 35/40\n",
            "1875/1875 [==============================] - 3s 2ms/step - loss: 0.8255 - acc: 0.7188 - val_loss: 0.8102 - val_acc: 0.7342\n",
            "Epoch 36/40\n",
            "1875/1875 [==============================] - 3s 2ms/step - loss: 0.8798 - acc: 0.6989 - val_loss: 0.8824 - val_acc: 0.6822\n",
            "Epoch 37/40\n",
            "1875/1875 [==============================] - 3s 2ms/step - loss: 0.9673 - acc: 0.6539 - val_loss: 1.0329 - val_acc: 0.6430\n",
            "Epoch 38/40\n",
            "1875/1875 [==============================] - 3s 2ms/step - loss: 1.0217 - acc: 0.6376 - val_loss: 0.9631 - val_acc: 0.6314\n",
            "Epoch 39/40\n",
            "1875/1875 [==============================] - 3s 2ms/step - loss: 1.2084 - acc: 0.5300 - val_loss: 1.1771 - val_acc: 0.4974\n",
            "Epoch 40/40\n",
            "1875/1875 [==============================] - 3s 2ms/step - loss: 1.5028 - acc: 0.3693 - val_loss: 1.6092 - val_acc: 0.3048\n"
          ],
          "name": "stdout"
        }
      ]
    },
    {
      "cell_type": "code",
      "metadata": {
        "colab": {
          "base_uri": "https://localhost:8080/",
          "height": 299
        },
        "id": "dVoy7AIlY6JL",
        "outputId": "917071f5-26f8-4d3f-f7ad-9985bbb894ab"
      },
      "source": [
        "# Plot learnign rate decay curve [Important]\n",
        "\n",
        "lrs = 1e-3 * 10**(tf.range(40)/20)\n",
        "plt.semilogx(lrs, find_lr_history.history['loss'])\n",
        "plt.xlabel('Learning rate')\n",
        "plt.ylabel('Loss')\n",
        "plt.title('Learning rate vs Loss');"
      ],
      "execution_count": 41,
      "outputs": [
        {
          "output_type": "display_data",
          "data": {
            "image/png": "[encoded data removed]",
            "text/plain": [
              "<Figure size 432x288 with 1 Axes>"
            ]
          },
          "metadata": {
            "tags": [],
            "needs_background": "light"
          }
        }
      ]
    },
    {
      "cell_type": "markdown",
      "metadata": {
        "id": "u_XbIg_MbwCB"
      },
      "source": [
        "This shows that our ideal learning rate is 0.001 which is the same as the default lr we are currently using."
      ]
    },
    {
      "cell_type": "code",
      "metadata": {
        "id": "EtfJrBtzcMsR"
      },
      "source": [
        ""
      ],
      "execution_count": null,
      "outputs": []
    }
  ]
}